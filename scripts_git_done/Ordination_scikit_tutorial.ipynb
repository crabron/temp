{
 "cells": [
  {
   "cell_type": "code",
   "execution_count": 58,
   "metadata": {},
   "outputs": [],
   "source": [
    "from __future__ import division\n",
    "import numpy as np\n",
    "import pandas as pd\n",
    "import sklearn as sk\n",
    "from sklearn.metrics import pairwise_distances\n"
   ]
  },
  {
   "cell_type": "code",
   "execution_count": 13,
   "metadata": {},
   "outputs": [
    {
     "name": "stdout",
     "output_type": "stream",
     "text": [
      "Populating the interactive namespace from numpy and matplotlib\n"
     ]
    }
   ],
   "source": [
    "%pylab inline\n",
    "\n",
    "\n",
    "import numpy as np\n",
    "import pandas as pd\n",
    "\n",
    "sample_ids = ['A', 'B', 'C']\n",
    "feature_ids = ['OTU1', 'OTU2', 'OTU3', 'OTU4', 'OTU5']\n",
    "data = array([[1, 0, 0],\n",
    "              [3, 2, 0],\n",
    "              [0, 0, 6],\n",
    "              [1, 4, 2],\n",
    "              [0, 4, 1]])\n",
    "\n",
    "table1 = pd.DataFrame(data, index=feature_ids, columns=sample_ids)"
   ]
  },
  {
   "cell_type": "code",
   "execution_count": 14,
   "metadata": {
    "scrolled": false
   },
   "outputs": [
    {
     "data": {
      "text/plain": [
       "['vare.species.2.png',\n",
       " 'cca.zip',\n",
       " 'sf_otu_table.txt',\n",
       " 'vare.species.3.png',\n",
       " 'vare.sites.2',\n",
       " 'taxa.csv',\n",
       " 'otu.all.csv',\n",
       " 'stats.vare.cca',\n",
       " 'vare.sites.1.png',\n",
       " 'map_with_dist_depth.csv',\n",
       " 'vare.species.4.png',\n",
       " 'fdat.txt',\n",
       " 'vare.sites.3',\n",
       " 'sites.cca.svg',\n",
       " 'taxa.all.csv',\n",
       " 'vare.species.1.png',\n",
       " 'vare.sites.4.png',\n",
       " 'map_with.csv',\n",
       " 'vare.sites.1',\n",
       " 'Rrr',\n",
       " 'OTU.csv',\n",
       " 'vare.cca.4',\n",
       " 'vare.sites.2.png',\n",
       " 'vare.cca.1.sites.svg',\n",
       " 'Rplot.svg',\n",
       " 'vare.sites.3.png']"
      ]
     },
     "execution_count": 14,
     "metadata": {},
     "output_type": "execute_result"
    }
   ],
   "source": [
    "import os as os\n",
    "\n",
    "os.listdir(\"/home/gladkov/storage/mal/cc/\")\n"
   ]
  },
  {
   "cell_type": "code",
   "execution_count": 62,
   "metadata": {},
   "outputs": [
    {
     "data": {
      "text/plain": [
       "array([[0.        , 0.88366273, 0.96208117, ..., 0.9768045 , 0.87438495,\n",
       "        0.66160684],\n",
       "       [0.88366273, 0.        , 0.97790269, ..., 0.98189499, 0.97303456,\n",
       "        0.61688931],\n",
       "       [0.96208117, 0.97790269, 0.        , ..., 0.83553719, 0.77826888,\n",
       "        0.88239328],\n",
       "       ...,\n",
       "       [0.9768045 , 0.98189499, 0.83553719, ..., 0.        , 0.95884448,\n",
       "        0.92170062],\n",
       "       [0.87438495, 0.97303456, 0.77826888, ..., 0.95884448, 0.        ,\n",
       "        0.86026936],\n",
       "       [0.66160684, 0.61688931, 0.88239328, ..., 0.92170062, 0.86026936,\n",
       "        0.        ]])"
      ]
     },
     "execution_count": 62,
     "metadata": {},
     "output_type": "execute_result"
    }
   ],
   "source": [
    "otus = pd.read_csv(\"/home/gladkov/storage/mal/cc/OTU.csv\", sep=\"\\t\", index_col=0)\n",
    "np_bc_dist = pairwise_distances(otus, metric='braycurtis')\n",
    "f_new = pd.DataFrame(npar_new, index = df.index, columns = df.columns)\n",
    "\n",
    "\n",
    "     "
   ]
  },
  {
   "cell_type": "code",
   "execution_count": 52,
   "metadata": {},
   "outputs": [
    {
     "data": {
      "text/html": [
       "<div>\n",
       "<style scoped>\n",
       "    .dataframe tbody tr th:only-of-type {\n",
       "        vertical-align: middle;\n",
       "    }\n",
       "\n",
       "    .dataframe tbody tr th {\n",
       "        vertical-align: top;\n",
       "    }\n",
       "\n",
       "    .dataframe thead th {\n",
       "        text-align: right;\n",
       "    }\n",
       "</style>\n",
       "<table border=\"1\" class=\"dataframe\">\n",
       "  <thead>\n",
       "    <tr style=\"text-align: right;\">\n",
       "      <th></th>\n",
       "      <th>O.1.1</th>\n",
       "      <th>O.1.2</th>\n",
       "      <th>O.1.3</th>\n",
       "      <th>E.1.1</th>\n",
       "      <th>E.1.2</th>\n",
       "      <th>E.1.3</th>\n",
       "      <th>BF.1.2</th>\n",
       "      <th>BF.1.3</th>\n",
       "      <th>BC.1.1</th>\n",
       "      <th>BC.1.2</th>\n",
       "      <th>...</th>\n",
       "      <th>BF.3.3</th>\n",
       "      <th>O.4.1</th>\n",
       "      <th>O.4.2</th>\n",
       "      <th>O.4.3</th>\n",
       "      <th>Oe.4.1</th>\n",
       "      <th>Oe.4.2</th>\n",
       "      <th>Oe.4.3</th>\n",
       "      <th>BF.4.1</th>\n",
       "      <th>BF.4.2</th>\n",
       "      <th>BF.4.3</th>\n",
       "    </tr>\n",
       "    <tr>\n",
       "      <th>ID</th>\n",
       "      <th></th>\n",
       "      <th></th>\n",
       "      <th></th>\n",
       "      <th></th>\n",
       "      <th></th>\n",
       "      <th></th>\n",
       "      <th></th>\n",
       "      <th></th>\n",
       "      <th></th>\n",
       "      <th></th>\n",
       "      <th></th>\n",
       "      <th></th>\n",
       "      <th></th>\n",
       "      <th></th>\n",
       "      <th></th>\n",
       "      <th></th>\n",
       "      <th></th>\n",
       "      <th></th>\n",
       "      <th></th>\n",
       "      <th></th>\n",
       "      <th></th>\n",
       "    </tr>\n",
       "  </thead>\n",
       "  <tbody>\n",
       "    <tr>\n",
       "      <th>C_N</th>\n",
       "      <td>22.52</td>\n",
       "      <td>23.6460</td>\n",
       "      <td>22.0696</td>\n",
       "      <td>13.70</td>\n",
       "      <td>14.3850</td>\n",
       "      <td>13.4260</td>\n",
       "      <td>5.80</td>\n",
       "      <td>5.760</td>\n",
       "      <td>5.40</td>\n",
       "      <td>5.6700</td>\n",
       "      <td>...</td>\n",
       "      <td>4.4296</td>\n",
       "      <td>12.63</td>\n",
       "      <td>13.2615</td>\n",
       "      <td>12.3774</td>\n",
       "      <td>21.10</td>\n",
       "      <td>22.1550</td>\n",
       "      <td>20.6780</td>\n",
       "      <td>8.37</td>\n",
       "      <td>8.7885</td>\n",
       "      <td>8.2026</td>\n",
       "    </tr>\n",
       "    <tr>\n",
       "      <th>Carbon</th>\n",
       "      <td>25.23</td>\n",
       "      <td>26.4915</td>\n",
       "      <td>24.7254</td>\n",
       "      <td>0.32</td>\n",
       "      <td>0.3360</td>\n",
       "      <td>0.3136</td>\n",
       "      <td>0.16</td>\n",
       "      <td>0.150</td>\n",
       "      <td>0.11</td>\n",
       "      <td>0.1155</td>\n",
       "      <td>...</td>\n",
       "      <td>0.1078</td>\n",
       "      <td>37.65</td>\n",
       "      <td>39.5325</td>\n",
       "      <td>36.8970</td>\n",
       "      <td>1.97</td>\n",
       "      <td>2.0685</td>\n",
       "      <td>1.9306</td>\n",
       "      <td>0.23</td>\n",
       "      <td>0.2415</td>\n",
       "      <td>0.2254</td>\n",
       "    </tr>\n",
       "    <tr>\n",
       "      <th>Ntot</th>\n",
       "      <td>1.12</td>\n",
       "      <td>1.1760</td>\n",
       "      <td>1.0976</td>\n",
       "      <td>0.02</td>\n",
       "      <td>0.0210</td>\n",
       "      <td>0.0196</td>\n",
       "      <td>0.03</td>\n",
       "      <td>0.031</td>\n",
       "      <td>0.02</td>\n",
       "      <td>0.0210</td>\n",
       "      <td>...</td>\n",
       "      <td>0.0196</td>\n",
       "      <td>2.98</td>\n",
       "      <td>3.1290</td>\n",
       "      <td>2.9204</td>\n",
       "      <td>0.09</td>\n",
       "      <td>0.0945</td>\n",
       "      <td>0.0882</td>\n",
       "      <td>0.03</td>\n",
       "      <td>0.0315</td>\n",
       "      <td>0.0294</td>\n",
       "    </tr>\n",
       "    <tr>\n",
       "      <th>P2O5</th>\n",
       "      <td>629.10</td>\n",
       "      <td>635.3910</td>\n",
       "      <td>622.8090</td>\n",
       "      <td>1.34</td>\n",
       "      <td>1.3534</td>\n",
       "      <td>1.3266</td>\n",
       "      <td>127.90</td>\n",
       "      <td>129.179</td>\n",
       "      <td>135.50</td>\n",
       "      <td>136.8550</td>\n",
       "      <td>...</td>\n",
       "      <td>104.5440</td>\n",
       "      <td>219.40</td>\n",
       "      <td>221.5940</td>\n",
       "      <td>217.2060</td>\n",
       "      <td>1.78</td>\n",
       "      <td>1.7978</td>\n",
       "      <td>1.7622</td>\n",
       "      <td>103.00</td>\n",
       "      <td>104.0300</td>\n",
       "      <td>101.9700</td>\n",
       "    </tr>\n",
       "    <tr>\n",
       "      <th>K2O</th>\n",
       "      <td>2685.00</td>\n",
       "      <td>2711.8500</td>\n",
       "      <td>2658.1500</td>\n",
       "      <td>44.40</td>\n",
       "      <td>44.8440</td>\n",
       "      <td>43.9560</td>\n",
       "      <td>18.20</td>\n",
       "      <td>18.382</td>\n",
       "      <td>20.40</td>\n",
       "      <td>20.6040</td>\n",
       "      <td>...</td>\n",
       "      <td>40.2930</td>\n",
       "      <td>1751.00</td>\n",
       "      <td>1768.5100</td>\n",
       "      <td>1733.4900</td>\n",
       "      <td>110.10</td>\n",
       "      <td>111.2010</td>\n",
       "      <td>108.9990</td>\n",
       "      <td>38.20</td>\n",
       "      <td>38.5820</td>\n",
       "      <td>37.8180</td>\n",
       "    </tr>\n",
       "  </tbody>\n",
       "</table>\n",
       "<p>5 rows × 47 columns</p>\n",
       "</div>"
      ],
      "text/plain": [
       "          O.1.1      O.1.2      O.1.3  E.1.1    E.1.2    E.1.3  BF.1.2  \\\n",
       "ID                                                                       \n",
       "C_N       22.52    23.6460    22.0696  13.70  14.3850  13.4260    5.80   \n",
       "Carbon    25.23    26.4915    24.7254   0.32   0.3360   0.3136    0.16   \n",
       "Ntot       1.12     1.1760     1.0976   0.02   0.0210   0.0196    0.03   \n",
       "P2O5     629.10   635.3910   622.8090   1.34   1.3534   1.3266  127.90   \n",
       "K2O     2685.00  2711.8500  2658.1500  44.40  44.8440  43.9560   18.20   \n",
       "\n",
       "         BF.1.3  BC.1.1    BC.1.2    ...       BF.3.3    O.4.1      O.4.2  \\\n",
       "ID                                   ...                                    \n",
       "C_N       5.760    5.40    5.6700    ...       4.4296    12.63    13.2615   \n",
       "Carbon    0.150    0.11    0.1155    ...       0.1078    37.65    39.5325   \n",
       "Ntot      0.031    0.02    0.0210    ...       0.0196     2.98     3.1290   \n",
       "P2O5    129.179  135.50  136.8550    ...     104.5440   219.40   221.5940   \n",
       "K2O      18.382   20.40   20.6040    ...      40.2930  1751.00  1768.5100   \n",
       "\n",
       "            O.4.3  Oe.4.1    Oe.4.2    Oe.4.3  BF.4.1    BF.4.2    BF.4.3  \n",
       "ID                                                                         \n",
       "C_N       12.3774   21.10   22.1550   20.6780    8.37    8.7885    8.2026  \n",
       "Carbon    36.8970    1.97    2.0685    1.9306    0.23    0.2415    0.2254  \n",
       "Ntot       2.9204    0.09    0.0945    0.0882    0.03    0.0315    0.0294  \n",
       "P2O5     217.2060    1.78    1.7978    1.7622  103.00  104.0300  101.9700  \n",
       "K2O     1733.4900  110.10  111.2010  108.9990   38.20   38.5820   37.8180  \n",
       "\n",
       "[5 rows x 47 columns]"
      ]
     },
     "execution_count": 52,
     "metadata": {},
     "output_type": "execute_result"
    }
   ],
   "source": [
    "metadata = pd.read_csv(\"/home/gladkov/storage/mal/cc/map_with_dist_depth.csv\", sep=\"\\t\", index_col=0)\n",
    "metadata.head()\n",
    "\n"
   ]
  },
  {
   "cell_type": "code",
   "execution_count": 24,
   "metadata": {},
   "outputs": [],
   "source": [
    "%magic\n"
   ]
  },
  {
   "cell_type": "code",
   "execution_count": 53,
   "metadata": {},
   "outputs": [
    {
     "name": "stdout",
     "output_type": "stream",
     "text": [
      "Help on method corr in module pandas.core.frame:\n",
      "\n",
      "corr(method='pearson', min_periods=1) method of pandas.core.frame.DataFrame instance\n",
      "    Compute pairwise correlation of columns, excluding NA/null values\n",
      "    \n",
      "    Parameters\n",
      "    ----------\n",
      "    method : {'pearson', 'kendall', 'spearman'}\n",
      "        * pearson : standard correlation coefficient\n",
      "        * kendall : Kendall Tau correlation coefficient\n",
      "        * spearman : Spearman rank correlation\n",
      "    min_periods : int, optional\n",
      "        Minimum number of observations required per pair of columns\n",
      "        to have a valid result. Currently only available for pearson\n",
      "        and spearman correlation\n",
      "    \n",
      "    Returns\n",
      "    -------\n",
      "    y : DataFrame\n",
      "\n"
     ]
    }
   ],
   "source": [
    "tr_metadata = metadata.transpose()\n",
    "corr_meta = tr_metadata.corr()\n",
    "corr_meta.to_csv(\"corr.meta\", sep=\"\\t\")\n",
    "help(tr_metadata.corr)"
   ]
  },
  {
   "cell_type": "code",
   "execution_count": 43,
   "metadata": {},
   "outputs": [
    {
     "name": "stderr",
     "output_type": "stream",
     "text": [
      "UsageError: Cell magic `%%conda` not found.\n"
     ]
    }
   ],
   "source": [
    "\n"
   ]
  }
 ],
 "metadata": {
  "kernelspec": {
   "display_name": "Python 3",
   "language": "python",
   "name": "python3"
  },
  "language_info": {
   "codemirror_mode": {
    "name": "ipython",
    "version": 3
   },
   "file_extension": ".py",
   "mimetype": "text/x-python",
   "name": "python",
   "nbconvert_exporter": "python",
   "pygments_lexer": "ipython3",
   "version": "3.7.2"
  }
 },
 "nbformat": 4,
 "nbformat_minor": 2
}
