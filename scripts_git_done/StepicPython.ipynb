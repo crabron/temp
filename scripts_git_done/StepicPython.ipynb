{
 "cells": [
  {
   "cell_type": "code",
   "execution_count": 76,
   "metadata": {},
   "outputs": [
    {
     "name": "stdout",
     "output_type": "stream",
     "text": [
      "7\n",
      "-7\n",
      "98\n"
     ]
    }
   ],
   "source": [
    "import sys\n",
    "\n",
    "\n",
    "first =int(input())\n",
    "l = [first]\n",
    "a = sum(l)\n",
    "while a != 0:\n",
    "    x =int(input())\n",
    "    l.append(x)\n",
    "    a = sum(l)   \n",
    "else:  \n",
    "    res = sum(map(lambda i : i * i, l))\n",
    "    print(res)\n",
    "\n",
    "\n",
    "        "
   ]
  },
  {
   "cell_type": "code",
   "execution_count": 75,
   "metadata": {},
   "outputs": [
    {
     "name": "stdout",
     "output_type": "stream",
     "text": [
      "7\n",
      "1 2 2 3 3 3 4\n"
     ]
    }
   ],
   "source": [
    "first = int(input())\n",
    "l = [1]\n",
    "while len(l)<first:\n",
    "    addSome = l[-1] + 1\n",
    "    l.extend([addSome]*addSome)\n",
    "else:\n",
    "    l = l[:first]\n",
    "    print (' '.join(map(str, l)))\n",
    "    \n",
    "        \n",
    "    "
   ]
  },
  {
   "cell_type": "code",
   "execution_count": 148,
   "metadata": {},
   "outputs": [
    {
     "name": "stdout",
     "output_type": "stream",
     "text": [
      "4 5 4 5 4 6 7 4\n",
      "4\n",
      "[0, 2, 4, 7]\n",
      "0 2 4 7\n"
     ]
    }
   ],
   "source": [
    "first = input()\n",
    "second = int(input())\n",
    "l = first.split(\" \")\n",
    "#l = map(int, l)\n",
    "if second in map(int, l):\n",
    "    indices = [i for i, x in enumerate(l) if int(x) == second]\n",
    "    res = \" \".join(map(str, indices))\n",
    "    print(res)\n",
    "else:\n",
    "    print(\"Отсутствует\")\n"
   ]
  },
  {
   "cell_type": "code",
   "execution_count": 178,
   "metadata": {},
   "outputs": [
    {
     "name": "stdout",
     "output_type": "stream",
     "text": [
      "1 -3 7\n",
      "0 -2 8\n",
      "4 5 6\n",
      "end\n",
      "[[ 1 -3  7]\n",
      " [ 0 -2  8]\n",
      " [ 4  5  6]]\n"
     ]
    }
   ],
   "source": [
    "import numpy as np\n",
    "\n",
    "l = []\n",
    "while True:\n",
    "    nextRow = input()\n",
    "    if nextRow != \"end\":\n",
    "        nextRow = nextRow.split(\" \")\n",
    "        l.append(nextRow)\n",
    "    else:\n",
    "        matrix = np.array(l)\n",
    "        matrix = matrix.astype(int)\n",
    "        matrix1 = np.roll(matrix, 1, 1)\n",
    "        matrix2 = np.roll(matrix, -1, 1)\n",
    "        matrix3 = np.roll(matrix, 1, 0)\n",
    "        matrix4 = np.roll(matrix, -1, 0)\n",
    "        matrixAll = matrix1 + matrix2 + matrix3 + matrix4\n",
    "        out = [\" \".join(s) for s in matrixAll.astype(str)]\n",
    "        out = \"\\n\".join(out)\n",
    "        print(out)\n",
    "        break\n",
    "    \n"
   ]
  },
  {
   "cell_type": "code",
   "execution_count": 258,
   "metadata": {},
   "outputs": [
    {
     "name": "stdout",
     "output_type": "stream",
     "text": [
      "8 11 12\n",
      "11 10 11\n",
      "12 5 24\n"
     ]
    }
   ],
   "source": [
    "matrix1 = np.roll(matrix, 1, 1)\n",
    "matrix2 = np.roll(matrix, -1, 1)\n",
    "matrix3 = np.roll(matrix, 1, 0)\n",
    "matrix4 = np.roll(matrix, -1, 0)\n",
    "matrixAll = matrix1 + matrix2 + matrix3 + matrix4\n",
    "out = [\" \".join(s) for s in matrixAll.astype(str)]\n",
    "out = \"\\n\".join(out)\n",
    "print(out)\n"
   ]
  },
  {
   "cell_type": "code",
   "execution_count": 279,
   "metadata": {},
   "outputs": [
    {
     "name": "stdout",
     "output_type": "stream",
     "text": [
      "5\n",
      "[[5, 4, 3, 2, 1], [4, 3, 2, 1], [3, 2, 1], [2, 1], [1]]\n"
     ]
    }
   ],
   "source": [
    "a = int(input())\n",
    "l = list(range(1, a**2 + 1))\n",
    "resList = []\n",
    "while i in index \n",
    "    "
   ]
  },
  {
   "cell_type": "code",
   "execution_count": 281,
   "metadata": {},
   "outputs": [
    {
     "name": "stdout",
     "output_type": "stream",
     "text": [
      "3\n",
      "Зенит;3;Спартак;1\n",
      "Спартак;1;ЦСКА;1\n",
      "ЦСКА;0;Зенит;2\n",
      "['Зенит;3;Спартак;1', 'Спартак;1;ЦСКА;1', 'ЦСКА;0;Зенит;2']\n"
     ]
    }
   ],
   "source": [
    "CountFMatch = int(input())\n",
    "l = []\n",
    "for i in range(CountFMatch):\n",
    "    a = str(input())\n",
    "    l.append(a)\n",
    "print(l)"
   ]
  },
  {
   "cell_type": "code",
   "execution_count": 377,
   "metadata": {
    "scrolled": true
   },
   "outputs": [
    {
     "ename": "KeyboardInterrupt",
     "evalue": "",
     "output_type": "error",
     "traceback": [
      "\u001b[0;31m---------------------------------------------------------------------------\u001b[0m",
      "\u001b[0;31mKeyboardInterrupt\u001b[0m                         Traceback (most recent call last)",
      "\u001b[0;32m~/.conda/envs/pandas/lib/python3.7/site-packages/ipykernel/kernelbase.py\u001b[0m in \u001b[0;36m_input_request\u001b[0;34m(self, prompt, ident, parent, password)\u001b[0m\n\u001b[1;32m    883\u001b[0m             \u001b[0;32mtry\u001b[0m\u001b[0;34m:\u001b[0m\u001b[0;34m\u001b[0m\u001b[0;34m\u001b[0m\u001b[0m\n\u001b[0;32m--> 884\u001b[0;31m                 \u001b[0mident\u001b[0m\u001b[0;34m,\u001b[0m \u001b[0mreply\u001b[0m \u001b[0;34m=\u001b[0m \u001b[0mself\u001b[0m\u001b[0;34m.\u001b[0m\u001b[0msession\u001b[0m\u001b[0;34m.\u001b[0m\u001b[0mrecv\u001b[0m\u001b[0;34m(\u001b[0m\u001b[0mself\u001b[0m\u001b[0;34m.\u001b[0m\u001b[0mstdin_socket\u001b[0m\u001b[0;34m,\u001b[0m \u001b[0;36m0\u001b[0m\u001b[0;34m)\u001b[0m\u001b[0;34m\u001b[0m\u001b[0;34m\u001b[0m\u001b[0m\n\u001b[0m\u001b[1;32m    885\u001b[0m             \u001b[0;32mexcept\u001b[0m \u001b[0mException\u001b[0m\u001b[0;34m:\u001b[0m\u001b[0;34m\u001b[0m\u001b[0;34m\u001b[0m\u001b[0m\n",
      "\u001b[0;32m~/.conda/envs/pandas/lib/python3.7/site-packages/jupyter_client/session.py\u001b[0m in \u001b[0;36mrecv\u001b[0;34m(self, socket, mode, content, copy)\u001b[0m\n\u001b[1;32m    802\u001b[0m         \u001b[0;32mtry\u001b[0m\u001b[0;34m:\u001b[0m\u001b[0;34m\u001b[0m\u001b[0;34m\u001b[0m\u001b[0m\n\u001b[0;32m--> 803\u001b[0;31m             \u001b[0mmsg_list\u001b[0m \u001b[0;34m=\u001b[0m \u001b[0msocket\u001b[0m\u001b[0;34m.\u001b[0m\u001b[0mrecv_multipart\u001b[0m\u001b[0;34m(\u001b[0m\u001b[0mmode\u001b[0m\u001b[0;34m,\u001b[0m \u001b[0mcopy\u001b[0m\u001b[0;34m=\u001b[0m\u001b[0mcopy\u001b[0m\u001b[0;34m)\u001b[0m\u001b[0;34m\u001b[0m\u001b[0;34m\u001b[0m\u001b[0m\n\u001b[0m\u001b[1;32m    804\u001b[0m         \u001b[0;32mexcept\u001b[0m \u001b[0mzmq\u001b[0m\u001b[0;34m.\u001b[0m\u001b[0mZMQError\u001b[0m \u001b[0;32mas\u001b[0m \u001b[0me\u001b[0m\u001b[0;34m:\u001b[0m\u001b[0;34m\u001b[0m\u001b[0;34m\u001b[0m\u001b[0m\n",
      "\u001b[0;32m~/.conda/envs/pandas/lib/python3.7/site-packages/zmq/sugar/socket.py\u001b[0m in \u001b[0;36mrecv_multipart\u001b[0;34m(self, flags, copy, track)\u001b[0m\n\u001b[1;32m    474\u001b[0m         \"\"\"\n\u001b[0;32m--> 475\u001b[0;31m         \u001b[0mparts\u001b[0m \u001b[0;34m=\u001b[0m \u001b[0;34m[\u001b[0m\u001b[0mself\u001b[0m\u001b[0;34m.\u001b[0m\u001b[0mrecv\u001b[0m\u001b[0;34m(\u001b[0m\u001b[0mflags\u001b[0m\u001b[0;34m,\u001b[0m \u001b[0mcopy\u001b[0m\u001b[0;34m=\u001b[0m\u001b[0mcopy\u001b[0m\u001b[0;34m,\u001b[0m \u001b[0mtrack\u001b[0m\u001b[0;34m=\u001b[0m\u001b[0mtrack\u001b[0m\u001b[0;34m)\u001b[0m\u001b[0;34m]\u001b[0m\u001b[0;34m\u001b[0m\u001b[0;34m\u001b[0m\u001b[0m\n\u001b[0m\u001b[1;32m    476\u001b[0m         \u001b[0;31m# have first part already, only loop while more to receive\u001b[0m\u001b[0;34m\u001b[0m\u001b[0;34m\u001b[0m\u001b[0;34m\u001b[0m\u001b[0m\n",
      "\u001b[0;32mzmq/backend/cython/socket.pyx\u001b[0m in \u001b[0;36mzmq.backend.cython.socket.Socket.recv\u001b[0;34m()\u001b[0m\n",
      "\u001b[0;32mzmq/backend/cython/socket.pyx\u001b[0m in \u001b[0;36mzmq.backend.cython.socket.Socket.recv\u001b[0;34m()\u001b[0m\n",
      "\u001b[0;32mzmq/backend/cython/socket.pyx\u001b[0m in \u001b[0;36mzmq.backend.cython.socket._recv_copy\u001b[0;34m()\u001b[0m\n",
      "\u001b[0;32m~/.conda/envs/pandas/lib/python3.7/site-packages/zmq/backend/cython/checkrc.pxd\u001b[0m in \u001b[0;36mzmq.backend.cython.checkrc._check_rc\u001b[0;34m()\u001b[0m\n",
      "\u001b[0;31mKeyboardInterrupt\u001b[0m: ",
      "\nDuring handling of the above exception, another exception occurred:\n",
      "\u001b[0;31mKeyboardInterrupt\u001b[0m                         Traceback (most recent call last)",
      "\u001b[0;32m<ipython-input-377-d7ead906b9f2>\u001b[0m in \u001b[0;36m<module>\u001b[0;34m\u001b[0m\n\u001b[1;32m      2\u001b[0m \u001b[0;32mimport\u001b[0m \u001b[0mnumpy\u001b[0m \u001b[0;32mas\u001b[0m \u001b[0mnp\u001b[0m\u001b[0;34m\u001b[0m\u001b[0;34m\u001b[0m\u001b[0m\n\u001b[1;32m      3\u001b[0m \u001b[0;34m\u001b[0m\u001b[0m\n\u001b[0;32m----> 4\u001b[0;31m \u001b[0mCountFMatch\u001b[0m \u001b[0;34m=\u001b[0m \u001b[0mint\u001b[0m\u001b[0;34m(\u001b[0m\u001b[0minput\u001b[0m\u001b[0;34m(\u001b[0m\u001b[0;34m)\u001b[0m\u001b[0;34m)\u001b[0m\u001b[0;34m\u001b[0m\u001b[0;34m\u001b[0m\u001b[0m\n\u001b[0m\u001b[1;32m      5\u001b[0m \u001b[0ml\u001b[0m \u001b[0;34m=\u001b[0m \u001b[0;34m[\u001b[0m\u001b[0;34m]\u001b[0m\u001b[0;34m\u001b[0m\u001b[0;34m\u001b[0m\u001b[0m\n\u001b[1;32m      6\u001b[0m \u001b[0;32mfor\u001b[0m \u001b[0mi\u001b[0m \u001b[0;32min\u001b[0m \u001b[0mrange\u001b[0m\u001b[0;34m(\u001b[0m\u001b[0mCountFMatch\u001b[0m\u001b[0;34m)\u001b[0m\u001b[0;34m:\u001b[0m\u001b[0;34m\u001b[0m\u001b[0;34m\u001b[0m\u001b[0m\n",
      "\u001b[0;32m~/.conda/envs/pandas/lib/python3.7/site-packages/ipykernel/kernelbase.py\u001b[0m in \u001b[0;36mraw_input\u001b[0;34m(self, prompt)\u001b[0m\n\u001b[1;32m    857\u001b[0m             \u001b[0mself\u001b[0m\u001b[0;34m.\u001b[0m\u001b[0m_parent_ident\u001b[0m\u001b[0;34m,\u001b[0m\u001b[0;34m\u001b[0m\u001b[0;34m\u001b[0m\u001b[0m\n\u001b[1;32m    858\u001b[0m             \u001b[0mself\u001b[0m\u001b[0;34m.\u001b[0m\u001b[0m_parent_header\u001b[0m\u001b[0;34m,\u001b[0m\u001b[0;34m\u001b[0m\u001b[0;34m\u001b[0m\u001b[0m\n\u001b[0;32m--> 859\u001b[0;31m             \u001b[0mpassword\u001b[0m\u001b[0;34m=\u001b[0m\u001b[0;32mFalse\u001b[0m\u001b[0;34m,\u001b[0m\u001b[0;34m\u001b[0m\u001b[0;34m\u001b[0m\u001b[0m\n\u001b[0m\u001b[1;32m    860\u001b[0m         )\n\u001b[1;32m    861\u001b[0m \u001b[0;34m\u001b[0m\u001b[0m\n",
      "\u001b[0;32m~/.conda/envs/pandas/lib/python3.7/site-packages/ipykernel/kernelbase.py\u001b[0m in \u001b[0;36m_input_request\u001b[0;34m(self, prompt, ident, parent, password)\u001b[0m\n\u001b[1;32m    887\u001b[0m             \u001b[0;32mexcept\u001b[0m \u001b[0mKeyboardInterrupt\u001b[0m\u001b[0;34m:\u001b[0m\u001b[0;34m\u001b[0m\u001b[0;34m\u001b[0m\u001b[0m\n\u001b[1;32m    888\u001b[0m                 \u001b[0;31m# re-raise KeyboardInterrupt, to truncate traceback\u001b[0m\u001b[0;34m\u001b[0m\u001b[0;34m\u001b[0m\u001b[0;34m\u001b[0m\u001b[0m\n\u001b[0;32m--> 889\u001b[0;31m                 \u001b[0;32mraise\u001b[0m \u001b[0mKeyboardInterrupt\u001b[0m\u001b[0;34m\u001b[0m\u001b[0;34m\u001b[0m\u001b[0m\n\u001b[0m\u001b[1;32m    890\u001b[0m             \u001b[0;32melse\u001b[0m\u001b[0;34m:\u001b[0m\u001b[0;34m\u001b[0m\u001b[0;34m\u001b[0m\u001b[0m\n\u001b[1;32m    891\u001b[0m                 \u001b[0;32mbreak\u001b[0m\u001b[0;34m\u001b[0m\u001b[0;34m\u001b[0m\u001b[0m\n",
      "\u001b[0;31mKeyboardInterrupt\u001b[0m: "
     ]
    }
   ],
   "source": [
    "import itertools\n",
    "import numpy as np\n",
    "\n",
    "CountFMatch = int(input())\n",
    "l = []\n",
    "for i in range(CountFMatch):\n",
    "    a = str(input())\n",
    "    l.append(a)\n",
    "\n",
    "l2 = []\n",
    "for i in l:\n",
    "    pair = i.split(\";\")\n",
    "    l2.append(pair)\n",
    "mergedList = list(itertools.chain.from_iterable(l2))\n",
    "keysList = [i for i in mergedList[::2]]\n",
    "MyDict = dict.fromkeys(keysList)\n",
    "countMatches = []\n",
    "unicKeysList = list(MyDict.keys())\n",
    "for keys in unicKeysList:\n",
    "    some = mergedList.count(keys)\n",
    "    countMatches.append(some)\n",
    "# print(countMatches)\n",
    "    \n",
    "# wins list costruction\n",
    "innerWins = []\n",
    "for keys in unicKeysList:\n",
    "    count = 0\n",
    "    for i in l2:\n",
    "#         print(l2)\n",
    "        if keys in i:\n",
    "#             print(i)\n",
    "            position = i.index(keys)\n",
    "            if position == 0:\n",
    "                if i[1] > i[3]:\n",
    "                    count +=1\n",
    "#                     print(\"Хуяк\")\n",
    "            else:\n",
    "                if i[3] > i[1]:\n",
    "                    count +=1\n",
    "#                     print(\"Не хуяк\")\n",
    "    innerWins.append(count)\n",
    "# print(innerWins)\n",
    "\n",
    "\n",
    "#loses list\n",
    "innerLoses = []\n",
    "for keys in unicKeysList:\n",
    "    count = 0\n",
    "    for i in l2:\n",
    "#         print(l2)\n",
    "        if keys in i:\n",
    "#             print(i)\n",
    "            position = i.index(keys)\n",
    "            if position == 0:\n",
    "                if i[1] < i[3]:\n",
    "                    count +=1\n",
    "#                     print(\"Хуяк\")\n",
    "            else:\n",
    "                if i[3] < i[1]:\n",
    "                    count +=1\n",
    "#                     print(\"Не хуяк\")\n",
    "    innerLoses.append(count)\n",
    "# print(innerLoses)\n",
    "\n",
    "# draws list\n",
    "innerDraws = []\n",
    "for keys in unicKeysList:\n",
    "    count = 0\n",
    "    for i in l2:\n",
    "#         print(l2)\n",
    "        if keys in i:\n",
    "#             print(i)\n",
    "            position = i.index(keys)\n",
    "            if position == 0:\n",
    "                if i[1] == i[3]:\n",
    "                    count +=1\n",
    "#                     print(\"Хуяк\")\n",
    "            else:\n",
    "                if i[3] == i[1]:\n",
    "                    count +=1\n",
    "#                     print(\"Не хуяк\")\n",
    "    innerDraws.append(count)\n",
    "# print(innerDraws)\n",
    "\n",
    "# points list\n",
    "c = [i*3 for i in innerWins]\n",
    "d = [i for i in innerDraws]  \n",
    "pointsList = [sum(i) for i in zip(c,d)]\n",
    "# print(pointsList)\n",
    "\n",
    "# out =  \n",
    "out = [unicKeysList, countMatches,innerWins,  innerDraws, innerLoses, pointsList]\n",
    "outArray = np.array(out)\n",
    "outArrayT = outArray.transpose()\n",
    "for row in outArrayT:\n",
    "    print(\"{}:{} {} {} {} {}\".format(*row)) "
   ]
  },
  {
   "cell_type": "code",
   "execution_count": 380,
   "metadata": {},
   "outputs": [
    {
     "name": "stdout",
     "output_type": "stream",
     "text": [
      "abcd\n",
      "*d%#\n",
      "abacabadaba\n",
      "#*%*d*%\n"
     ]
    }
   ],
   "source": [
    "import numpy as np\n",
    "\n",
    "first = input()\n",
    "second = input()\n",
    "third = input()\n",
    "fourth = input()\n",
    "\n",
    "\n",
    "\n",
    "dct_to_inf = dict(zip(list(first) , list(second)))\n",
    "dct_to_bio = dict(zip(list(second) , list(first)))\n",
    "\n",
    "third_to_inf = []\n",
    "for i in list(third):\n",
    "    third_to_inf.append(dct_to_inf.get(i))\n",
    "    \n",
    "fourth_to_bio = []\n",
    "for i in list(fourth):\n",
    "    fourth_to_bio.append(dct_to_bio.get(i))  \n",
    "   \n",
    "\n",
    "print(\"{}\\n{}\".format(\"\".join(third_to_inf), \"\".join(fourth_to_bio)))"
   ]
  },
  {
   "cell_type": "code",
   "execution_count": 395,
   "metadata": {},
   "outputs": [
    {
     "name": "stdout",
     "output_type": "stream",
     "text": [
      "*d*%*d*#*d*\n",
      "dacabac\n"
     ]
    }
   ],
   "source": [
    "import numpy as np\n",
    "\n",
    "dct_to_inf = dict(zip(list(first) , list(second)))\n",
    "dct_to_bio = dict(zip(list(second) , list(first)))\n",
    "\n",
    "third_to_inf = []\n",
    "for i in list(third):\n",
    "    third_to_inf.append(dct_to_inf.get(i))\n",
    "    \n",
    "fourth_to_bio = []\n",
    "for i in list(fourth):\n",
    "    fourth_to_bio.append(dct_to_bio.get(i))  \n",
    "   \n",
    "\n",
    "print(\"{}\\n{}\".format(\"\".join(third_to_inf), \"\".join(fourth_to_bio)))\n"
   ]
  },
  {
   "cell_type": "code",
   "execution_count": 398,
   "metadata": {},
   "outputs": [
    {
     "data": {
      "text/plain": [
       "89"
      ]
     },
     "execution_count": 398,
     "metadata": {},
     "output_type": "execute_result"
    }
   ],
   "source": [
    "9**19 - int(float(9**19))"
   ]
  },
  {
   "cell_type": "code",
   "execution_count": 410,
   "metadata": {},
   "outputs": [
    {
     "name": "stdout",
     "output_type": "stream",
     "text": [
      "3\n",
      "4\n",
      "5\n",
      "6.928203230275509\n"
     ]
    }
   ],
   "source": [
    "\n",
    "\n",
    "a = float(input())\n",
    "b = float(input())\n",
    "c = float(input())\n",
    "p = (a+b+c)/2\n",
    "res = (p*(p-a)*(p-b)*(p-c))**0.5\n",
    "res =float(res)\n",
    "print(res)"
   ]
  },
  {
   "cell_type": "code",
   "execution_count": 429,
   "metadata": {},
   "outputs": [
    {
     "name": "stdout",
     "output_type": "stream",
     "text": [
      "7\n",
      "10\n",
      "5\n",
      "6\n"
     ]
    }
   ],
   "source": [
    "a = int(input())\n",
    "b = int(input())\n",
    "c = int(input())\n",
    "d = int(input())\n",
    " "
   ]
  },
  {
   "cell_type": "code",
   "execution_count": 436,
   "metadata": {},
   "outputs": [
    {
     "name": "stdout",
     "output_type": "stream",
     "text": [
      "\t5\t6\n",
      "7\t35\t42\n",
      "8\t40\t48\n",
      "9\t45\t54\n",
      "10\t50\t60\n"
     ]
    }
   ],
   "source": [
    "ab = [i for i in range(a,b + 1)]\n",
    "cb = [i for i in range(c, d + 1)]\n",
    "str_cb = [str(i) for i in cb]\n",
    "header = \"\\t\" + \"\\t\".join(str_cb)\n",
    "print(header )\n",
    "for i in ab:\n",
    "    l = [str(a*i) for a in cb]\n",
    "    res = \"\\t\".join(l)\n",
    "    print(i,  res, sep = \"\\t\")"
   ]
  },
  {
   "cell_type": "code",
   "execution_count": 455,
   "metadata": {},
   "outputs": [
    {
     "name": "stdout",
     "output_type": "stream",
     "text": [
      "-5\n",
      "12\n",
      "[-3, 0, 3, 6, 9, 12]\n",
      "6\n",
      "4.5\n"
     ]
    }
   ],
   "source": [
    "a = int(input())\n",
    "b = int(input())\n",
    "ab = [i for i in range(a, b+1)]\n",
    "l = []\n",
    "for i in ab:\n",
    "    if i%3==0:\n",
    "        l.append(i)\n",
    "len_l = int(len(l))\n",
    "print(sum(l)/len_l)       "
   ]
  },
  {
   "cell_type": "code",
   "execution_count": 472,
   "metadata": {},
   "outputs": [
    {
     "data": {
      "text/plain": [
       "[20, 10, 3]"
      ]
     },
     "execution_count": 472,
     "metadata": {},
     "output_type": "execute_result"
    }
   ],
   "source": [
    "a = [1, 2, 3]\n",
    "b = a\n",
    "a[1] =10\n",
    "b[0] =20\n",
    "a = [5, 6]\n",
    "b"
   ]
  },
  {
   "cell_type": "code",
   "execution_count": 477,
   "metadata": {},
   "outputs": [
    {
     "name": "stdout",
     "output_type": "stream",
     "text": [
      "4 3 5 33\n",
      "45\n"
     ]
    }
   ],
   "source": [
    "print(sum([int(i) for i in input().split(\" \")]))\n"
   ]
  },
  {
   "cell_type": "code",
   "execution_count": 493,
   "metadata": {},
   "outputs": [
    {
     "name": "stdout",
     "output_type": "stream",
     "text": [
      "3 2\n",
      "4 6\n"
     ]
    }
   ],
   "source": [
    "import numpy as np\n",
    "\n",
    "ar = np.array([int(i) for i in input().split(\" \")])\n",
    "if len(ar) > 1:\n",
    "    r1 = np.roll(ar, 1)\n",
    "    r2 = np.roll(ar, -1)\n",
    "    res = r1 + r2\n",
    "    print(\" \".join([str(i) for i in res]))\n",
    "else:\n",
    "    print(\" \".join([str(i) for i in ar]))"
   ]
  },
  {
   "cell_type": "code",
   "execution_count": 551,
   "metadata": {},
   "outputs": [
    {
     "name": "stdout",
     "output_type": "stream",
     "text": [
      "1 1 1 2 3 4 4 4 4\n"
     ]
    }
   ],
   "source": [
    "ar = [int(i) for i in input().split(\" \")]"
   ]
  },
  {
   "cell_type": "code",
   "execution_count": 575,
   "metadata": {},
   "outputs": [
    {
     "name": "stdout",
     "output_type": "stream",
     "text": [
      "1 4\n"
     ]
    }
   ],
   "source": [
    "seen = {}\n",
    "dupes = []\n",
    "\n",
    "for x in ar:\n",
    "    if x not in seen:\n",
    "        seen[x] = 1\n",
    "    else:\n",
    "        if seen[x] == 1:\n",
    "            dupes.append(x)\n",
    "        seen[x] += 1\n",
    "print((\" \".join([str(i) for i in dupes])))\n"
   ]
  },
  {
   "cell_type": "code",
   "execution_count": 577,
   "metadata": {},
   "outputs": [
    {
     "data": {
      "text/plain": [
       "5484965"
      ]
     },
     "execution_count": 577,
     "metadata": {},
     "output_type": "execute_result"
    }
   ],
   "source": [
    "def f(n):\n",
    "    x = n\n",
    "    if n <= -2:\n",
    "        res = 1 - (n + 2)**2\n",
    "    elif n > -2 and n <= 2:\n",
    "        res = -(n/2)\n",
    "    else:\n",
    "        res = (n - 2)**2 + 1  \n",
    "    return res\n",
    "\n",
    "f(2344)"
   ]
  },
  {
   "cell_type": "code",
   "execution_count": 635,
   "metadata": {},
   "outputs": [
    {
     "data": {
      "text/plain": [
       "[3, 4, 55, 3, 22, 55]"
      ]
     },
     "execution_count": 635,
     "metadata": {},
     "output_type": "execute_result"
    }
   ],
   "source": [
    "l = [3, 4, 55, 3, 22, 55]\n",
    "\n",
    "def f(l):\n",
    "    new_l = [int(i) for i in l]\n",
    "    new_l = [x//2 for x in l if x%2==0]\n",
    "    len_l = len(l)\n",
    "    l.extend(new_l)\n",
    "    del l[0:len_l]\n",
    "\n",
    "l[:]"
   ]
  },
  {
   "cell_type": "code",
   "execution_count": 710,
   "metadata": {},
   "outputs": [
    {
     "name": "stdout",
     "output_type": "stream",
     "text": [
      "None\n",
      "{2: [-1]}\n",
      "{2: [-1, -2]}\n",
      "{2: [-1, -2, -3]}\n"
     ]
    }
   ],
   "source": [
    "def update_dictionary(d, key, value):\n",
    "    value = [value]\n",
    "    if key in d:\n",
    "        d[key].append(value[0])\n",
    "    elif 2*key in d:\n",
    "        d[2*key].append(value[0])\n",
    "    elif key not in d:\n",
    "        d[key*2] = value \n",
    "        \n",
    "\n",
    "d = {}\n",
    "print(update_dictionary(d, 1, -1))  # None\n",
    "print(d)                            # {2: [-1]}\n",
    "update_dictionary(d, 2, -2)\n",
    "print(d)                            # {2: [-1, -2]}\n",
    "update_dictionary(d, 1, -3)\n",
    "print(d) \n"
   ]
  },
  {
   "cell_type": "code",
   "execution_count": 711,
   "metadata": {},
   "outputs": [
    {
     "name": "stdout",
     "output_type": "stream",
     "text": [
      "a aa abC aa ac abc bcd a\n"
     ]
    }
   ],
   "source": [
    "ar = [i for i in input().split(\" \")]"
   ]
  },
  {
   "cell_type": "code",
   "execution_count": 723,
   "metadata": {},
   "outputs": [
    {
     "name": "stdout",
     "output_type": "stream",
     "text": [
      "aa   2\n",
      "a   2\n",
      "bcd   1\n",
      "abc   2\n",
      "ac   1\n"
     ]
    }
   ],
   "source": [
    "l_ar = [i.lower() for i in ar]\n",
    "s_ar = set(l_ar)\n",
    "for a in s_ar: \n",
    "    unic = [i for i in l_ar if i == a]\n",
    "    print(a,\" \", len(unic))"
   ]
  },
  {
   "cell_type": "code",
   "execution_count": 724,
   "metadata": {},
   "outputs": [
    {
     "name": "stdout",
     "output_type": "stream",
     "text": [
      "5\n",
      "5\n",
      "12\n",
      "9\n",
      "20\n",
      "12\n",
      "['5', '12', '9', '20', '12']\n"
     ]
    }
   ],
   "source": [
    "count_rows = int(input())\n",
    "l = []\n",
    "for i in range(count_rows):\n",
    "    a = str(input())\n",
    "    l.append(a)\n",
    "print(l)"
   ]
  },
  {
   "cell_type": "code",
   "execution_count": 728,
   "metadata": {},
   "outputs": [
    {
     "name": "stdout",
     "output_type": "stream",
     "text": [
      "55\n",
      "1212\n",
      "99\n",
      "2020\n",
      "1212\n"
     ]
    }
   ],
   "source": [
    "def f(x):\n",
    "    return(x*2)\n",
    "d = {}\n",
    "for i in l:\n",
    "    if i in d:\n",
    "        print(d[i])\n",
    "    else:\n",
    "        res = f(i)\n",
    "        print(res)\n",
    "        d[x] = res"
   ]
  },
  {
   "cell_type": "code",
   "execution_count": 736,
   "metadata": {},
   "outputs": [
    {
     "name": "stdout",
     "output_type": "stream",
     "text": [
      "4\n",
      "champions\n",
      "we\n",
      "are\n",
      "Stepik\n",
      "3\n",
      "We are the champignons\n",
      "We Are The Champions\n",
      "Stepic\n"
     ]
    }
   ],
   "source": [
    "count_rows = int(input())\n",
    "list1 = []\n",
    "for i in range(count_rows):\n",
    "    a = [i for i in input().split(\" \")]\n",
    "    list1.extend(a)\n",
    "count_rows2 = int(input())\n",
    "list2 = []\n",
    "for i in range(count_rows2):\n",
    "    a = [i for i in input().split(\" \")]\n",
    "    list2.extend(a)\n",
    "\n"
   ]
  },
  {
   "cell_type": "code",
   "execution_count": 742,
   "metadata": {},
   "outputs": [
    {
     "name": "stdout",
     "output_type": "stream",
     "text": [
      "['champions', 'we', 'are', 'Stepik']\n",
      "['We', 'are', 'the', 'champignons', 'We', 'Are', 'The', 'Champions', 'Stepic']\n",
      "['champions', 'we', 'are', 'stepik']\n",
      "['we', 'are', 'the', 'champignons', 'we', 'are', 'the', 'champions', 'stepic']\n",
      "champignons\n",
      "the\n",
      "stepic\n"
     ]
    }
   ],
   "source": [
    "\n",
    "l1_l = [i.lower() for i in list1]\n",
    "l2_l = [i.lower() for i in list2]\n",
    "\n",
    "l1_s = set(l1_l)\n",
    "l2_s = set(l2_l)\n",
    "res = [i for i in l2_s if i not in l1_s]\n",
    "for i in res:\n",
    "    print(i)"
   ]
  },
  {
   "cell_type": "code",
   "execution_count": 743,
   "metadata": {},
   "outputs": [
    {
     "name": "stdout",
     "output_type": "stream",
     "text": [
      "4\n",
      "север 10\n",
      "запад 20\n",
      "юг 30\n",
      "восток 40\n"
     ]
    }
   ],
   "source": [
    "count_rows = int(input())\n",
    "list1 = []\n",
    "for i in range(count_rows):\n",
    "    a = [i for i in input().split(\" \")]\n",
    "    list1.append(a)    "
   ]
  },
  {
   "cell_type": "code",
   "execution_count": 749,
   "metadata": {},
   "outputs": [
    {
     "name": "stdout",
     "output_type": "stream",
     "text": [
      "20 -20\n"
     ]
    }
   ],
   "source": [
    "res = [0,0]\n",
    "for i in list1:\n",
    "    if i[0] == \"север\":\n",
    "        res[1] += int(i[1])\n",
    "    elif i[0] == \"юг\":\n",
    "        res[1] -= int(i[1])\n",
    "    elif i[0] == \"запад\":\n",
    "        res[0] -= int(i[1])\n",
    "    elif i[0] == \"восток\":\n",
    "        res[0] += int(i[1])\n",
    "print(*res)\n",
    "        \n",
    "        "
   ]
  },
  {
   "cell_type": "code",
   "execution_count": 874,
   "metadata": {},
   "outputs": [
    {
     "name": "stdout",
     "output_type": "stream",
     "text": [
      "1 124.89473684210526\n",
      "2 129.77777777777777\n",
      "3 135.0\n",
      "4 141.58333333333334\n",
      "5 145.2\n",
      "6 155.375\n",
      "7 160.05882352941177\n",
      "8 165.5\n",
      "9 168.84615384615384\n",
      "10 169.75\n",
      "11 174.14285714285714\n"
     ]
    }
   ],
   "source": [
    "table = open(\"/home/gladkov/storage/trash/dataset_3380_5(12).txt\")\n",
    "l = table.readlines()\n",
    "l = [i.split(\"\\t\") for i in l]\n",
    "classes = [i for i in range(1, 12)]\n",
    "# print(l)\n",
    "d = {}\n",
    "\n",
    "for i in l:\n",
    "    value = [float(i[2][:-1])]\n",
    "    key = float(i[0])\n",
    "    if key in d:\n",
    "        d[key].extend(value)\n",
    "#         new_value = d[key]\n",
    "#         d[key] = [sum(new_value)/len(new_value)]\n",
    "    else:\n",
    "        d[key] = value\n",
    "for i in classes:\n",
    "    if i not in d:\n",
    "        print(i,\"-\")\n",
    "        \n",
    "    else:\n",
    "        res_data = d[i][0]\n",
    "#         res = round(res_data, 5)\n",
    "        new_value = d[i]\n",
    "        res = [sum(new_value)/len(new_value)]\n",
    "        print(i, res[0])"
   ]
  },
  {
   "cell_type": "code",
   "execution_count": 926,
   "metadata": {},
   "outputs": [
    {
     "name": "stdout",
     "output_type": "stream",
     "text": [
      "hhhhhhhhhhooooovvvvvvvvvvvvvvGGGGGGGGGttttttttttttttttttTTTRRRRRRRRZZZZZZZZZZZZZZZZdddJJJJJJJJJuugggggggggggggggFFFFFFFFFFFFFFFKKKmmmmmmmmmmmuuuuuuuuuuuuMMMMMMMMMMMMMCCCCCCCCCCCCzzzzzzzzzzzzzzzzzzzYYYFFFFFFFFFFFFFFFFFhhhhhhhhhhhhhhhyyyyyyyyyyCCCCCCwwwwwwwwwwwwwwwwMMMMMMMMMMMMMMMMMMWWWzzzzzzzmmmmjjjjjjjjjjjjDDDDDDD\n"
     ]
    }
   ],
   "source": [
    "seen = {}\n",
    "dupes = []\n",
    "\n",
    "ar = list(\"h10o5v14G9t18T3R8Z16d3J9u2g15F15K3m11u12M13C12z19Y3F17h15y10C6w16M18W3z7m4j12D7\")\n",
    "# print(ar)\n",
    "key_list = []\n",
    "value_list = []\n",
    "count_digits = False\n",
    "shitty_big_numbers = []\n",
    "count_loop = 0\n",
    "for i in ar:\n",
    "    count_loop += 1\n",
    "#     print(count_digits)\n",
    "    if i.isalpha():\n",
    "#         print(i, \"is chr\")\n",
    "        if len(shitty_big_numbers)>0:\n",
    "            big_number = \"\".join(shitty_big_numbers)\n",
    "            value_list.append(big_number)\n",
    "            shitty_big_numbers = []\n",
    "        key_list.append(i)\n",
    "        count_digits = False\n",
    "    elif i.isdigit():\n",
    "        if count_loop == len(ar):\n",
    "#             print(i, \"last digit\")\n",
    "            value_list.append(i)            \n",
    "        elif count_digits == False:\n",
    "#             print(\"digit first\")\n",
    "            shitty_big_numbers.append(i)\n",
    "        else:\n",
    "#             print(\"digit not first\")\n",
    "            shitty_big_numbers.append(i)\n",
    "        count_digits == True\n",
    "\n",
    "\n",
    "# print(key_list, value_list)\n",
    "res_list=[]\n",
    "count = 0\n",
    "for i in value_list:\n",
    "    res = key_list[count]*int(i)\n",
    "    if count < len(key_list):\n",
    "        count += 1\n",
    "    res_list.append(res)\n",
    "#     print(res)\n",
    "last_res = \"\".join(res_list) \n",
    "print(last_res)\n",
    "\n",
    "with open(\"/home/gladkov/storage/trash/res.txt\", \"w\") as res_file:\n",
    "    res_file.write(last_res)\n",
    "    \n"
   ]
  },
  {
   "cell_type": "code",
   "execution_count": 960,
   "metadata": {},
   "outputs": [
    {
     "name": "stdout",
     "output_type": "stream",
     "text": [
      "{'start': [12, 'd']}\n"
     ]
    }
   ],
   "source": [
    "f = open(\"/home/gladkov/storage/trash/dataset.txt\")\n",
    "\n",
    "s = [i for i in f.readlines()]\n",
    "l = [i.strip() for i in s]\n",
    "l = \" \".join(l)\n",
    "l = l.split(\" \")\n",
    "l_ar = [i.lower() for i in l]\n",
    "l_z = zip(l, l_ar)\n",
    "count = {\"start\":[0, \"shit\"]}\n",
    "max_shit = []\n",
    "for i in l_z:\n",
    "    li = [a for a in l_ar if i[1] == a]\n",
    "    if len(li) > count[\"start\"][0]:\n",
    "        new_count = {\"start\": [len(li), i[0]]}\n",
    "        count.update(new_count)      \n",
    "print(count)\n"
   ]
  },
  {
   "cell_type": "code",
   "execution_count": 990,
   "metadata": {},
   "outputs": [],
   "source": [
    "with open(\"/home/gladkov/storage/trash/dataset.txt\", \"r\") as f, open(\"/home/gladkov/storage/trash/res.txt\", \"a\") as res_file:\n",
    "    s = [i.strip() for i in f.readlines()]\n",
    "    sn = [i.split(\";\") for i in s]\n",
    "    math = 0\n",
    "    phys = 0\n",
    "    rus = 0\n",
    "    for i in sn:\n",
    "#         print(i)\n",
    "        sum_res = sum([int(a) for a in i[1:4]])\n",
    "#         print(sum_res/3)\n",
    "        res_file.write(str(sum_res/3) + \"\\n\")\n",
    "        math += int(i[1])\n",
    "        phys += int(i[2])\n",
    "        rus += int(i[3])\n",
    "#     print(math/len(sn), phys/len(sn), rus/len(sn), end=\"\\n\")\n",
    "    res = (str(math/len(sn)) + \" \"+str(phys/len(sn))+\" \"+ str(rus/len(sn))+\"\\n\")   \n",
    "    res_file.write(res)   \n",
    "    \n",
    "\n",
    "\n"
   ]
  },
  {
   "cell_type": "code",
   "execution_count": 991,
   "metadata": {},
   "outputs": [
    {
     "name": "stdout",
     "output_type": "stream",
     "text": [
      "10.0\n",
      "62.83185307179586\n"
     ]
    }
   ],
   "source": [
    "from math import pi\n",
    "\n",
    "a = float(input())\n",
    "print(2*pi*a)\n",
    "\n",
    "\n",
    "\n"
   ]
  },
  {
   "cell_type": "code",
   "execution_count": 1018,
   "metadata": {},
   "outputs": [
    {
     "data": {
      "text/plain": [
       "248"
      ]
     },
     "execution_count": 1018,
     "metadata": {},
     "output_type": "execute_result"
    }
   ],
   "source": [
    "import requests as rq\n",
    "\n",
    "f = rq.get(\"https://stepic.org/media/attachments/course67/3.6.2/121.txt\")\n",
    "l = [i for i in f.iter_lines()]\n",
    "len(l)"
   ]
  },
  {
   "cell_type": "code",
   "execution_count": 1046,
   "metadata": {},
   "outputs": [
    {
     "name": "stdout",
     "output_type": "stream",
     "text": [
      "https://stepic.org/media/attachments/course67/3.6.3/699991.txt\n",
      "https://stepic.org/media/attachments/course67/3.6.3/213837.txt\n",
      "https://stepic.org/media/attachments/course67/3.6.3/396639.txt\n",
      "https://stepic.org/media/attachments/course67/3.6.3/835329.txt\n",
      "https://stepic.org/media/attachments/course67/3.6.3/344063.txt\n",
      "https://stepic.org/media/attachments/course67/3.6.3/194307.txt\n",
      "https://stepic.org/media/attachments/course67/3.6.3/195211.txt\n",
      "https://stepic.org/media/attachments/course67/3.6.3/769171.txt\n",
      "https://stepic.org/media/attachments/course67/3.6.3/153554.txt\n",
      "https://stepic.org/media/attachments/course67/3.6.3/680916.txt\n",
      "https://stepic.org/media/attachments/course67/3.6.3/335636.txt\n",
      "https://stepic.org/media/attachments/course67/3.6.3/935728.txt\n",
      "https://stepic.org/media/attachments/course67/3.6.3/081303.txt\n",
      "https://stepic.org/media/attachments/course67/3.6.3/792633.txt\n",
      "https://stepic.org/media/attachments/course67/3.6.3/668368.txt\n",
      "https://stepic.org/media/attachments/course67/3.6.3/647731.txt\n",
      "https://stepic.org/media/attachments/course67/3.6.3/904392.txt\n",
      "https://stepic.org/media/attachments/course67/3.6.3/684563.txt\n",
      "https://stepic.org/media/attachments/course67/3.6.3/997337.txt\n",
      "https://stepic.org/media/attachments/course67/3.6.3/329467.txt\n",
      "https://stepic.org/media/attachments/course67/3.6.3/366219.txt\n",
      "https://stepic.org/media/attachments/course67/3.6.3/730037.txt\n",
      "https://stepic.org/media/attachments/course67/3.6.3/310230.txt\n",
      "https://stepic.org/media/attachments/course67/3.6.3/104249.txt\n",
      "https://stepic.org/media/attachments/course67/3.6.3/382504.txt\n",
      "https://stepic.org/media/attachments/course67/3.6.3/433681.txt\n",
      "https://stepic.org/media/attachments/course67/3.6.3/507359.txt\n",
      "https://stepic.org/media/attachments/course67/3.6.3/293649.txt\n",
      "https://stepic.org/media/attachments/course67/3.6.3/011641.txt\n",
      "https://stepic.org/media/attachments/course67/3.6.3/717942.txt\n",
      "https://stepic.org/media/attachments/course67/3.6.3/258080.txt\n",
      "https://stepic.org/media/attachments/course67/3.6.3/569395.txt\n",
      "https://stepic.org/media/attachments/course67/3.6.3/756825.txt\n",
      "https://stepic.org/media/attachments/course67/3.6.3/921388.txt\n",
      "https://stepic.org/media/attachments/course67/3.6.3/437007.txt\n",
      "https://stepic.org/media/attachments/course67/3.6.3/004090.txt\n",
      "https://stepic.org/media/attachments/course67/3.6.3/362705.txt\n",
      "https://stepic.org/media/attachments/course67/3.6.3/145282.txt\n",
      "https://stepic.org/media/attachments/course67/3.6.3/990216.txt\n",
      "https://stepic.org/media/attachments/course67/3.6.3/645783.txt\n",
      "https://stepic.org/media/attachments/course67/3.6.3/451262.txt\n",
      "https://stepic.org/media/attachments/course67/3.6.3/193295.txt\n",
      "https://stepic.org/media/attachments/course67/3.6.3/777343.txt\n",
      "https://stepic.org/media/attachments/course67/3.6.3/324603.txt\n",
      "https://stepic.org/media/attachments/course67/3.6.3/888934.txt\n",
      "https://stepic.org/media/attachments/course67/3.6.3/138655.txt\n",
      "https://stepic.org/media/attachments/course67/3.6.3/818396.txt\n",
      "https://stepic.org/media/attachments/course67/3.6.3/290594.txt\n",
      "https://stepic.org/media/attachments/course67/3.6.3/478003.txt\n",
      "https://stepic.org/media/attachments/course67/3.6.3/276687.txt\n",
      "https://stepic.org/media/attachments/course67/3.6.3/703763.txt\n",
      "https://stepic.org/media/attachments/course67/3.6.3/712469.txt\n",
      "https://stepic.org/media/attachments/course67/3.6.3/064418.txt\n",
      "https://stepic.org/media/attachments/course67/3.6.3/246033.txt\n",
      "https://stepic.org/media/attachments/course67/3.6.3/356768.txt\n",
      "https://stepic.org/media/attachments/course67/3.6.3/504290.txt\n",
      "https://stepic.org/media/attachments/course67/3.6.3/629914.txt\n",
      "https://stepic.org/media/attachments/course67/3.6.3/062456.txt\n",
      "https://stepic.org/media/attachments/course67/3.6.3/658472.txt\n",
      "https://stepic.org/media/attachments/course67/3.6.3/037659.txt\n",
      "https://stepic.org/media/attachments/course67/3.6.3/351978.txt\n",
      "https://stepic.org/media/attachments/course67/3.6.3/523822.txt\n",
      "https://stepic.org/media/attachments/course67/3.6.3/653493.txt\n",
      "https://stepic.org/media/attachments/course67/3.6.3/859227.txt\n",
      "https://stepic.org/media/attachments/course67/3.6.3/878358.txt\n",
      "https://stepic.org/media/attachments/course67/3.6.3/944504.txt\n",
      "https://stepic.org/media/attachments/course67/3.6.3/457602.txt\n",
      "https://stepic.org/media/attachments/course67/3.6.3/548571.txt\n",
      "https://stepic.org/media/attachments/course67/3.6.3/090976.txt\n",
      "https://stepic.org/media/attachments/course67/3.6.3/965991.txt\n",
      "https://stepic.org/media/attachments/course67/3.6.3/138128.txt\n",
      "https://stepic.org/media/attachments/course67/3.6.3/255843.txt\n",
      "https://stepic.org/media/attachments/course67/3.6.3/797598.txt\n",
      "https://stepic.org/media/attachments/course67/3.6.3/640003.txt\n",
      "https://stepic.org/media/attachments/course67/3.6.3/789435.txt\n",
      "https://stepic.org/media/attachments/course67/3.6.3/181382.txt\n",
      "https://stepic.org/media/attachments/course67/3.6.3/590526.txt\n",
      "https://stepic.org/media/attachments/course67/3.6.3/430513.txt\n",
      "https://stepic.org/media/attachments/course67/3.6.3/182774.txt\n",
      "https://stepic.org/media/attachments/course67/3.6.3/924794.txt\n",
      "https://stepic.org/media/attachments/course67/3.6.3/998193.txt\n",
      "https://stepic.org/media/attachments/course67/3.6.3/770039.txt\n",
      "https://stepic.org/media/attachments/course67/3.6.3/619504.txt\n",
      "https://stepic.org/media/attachments/course67/3.6.3/098137.txt\n",
      "https://stepic.org/media/attachments/course67/3.6.3/874234.txt\n",
      "https://stepic.org/media/attachments/course67/3.6.3/476929.txt\n",
      "https://stepic.org/media/attachments/course67/3.6.3/254654.txt\n",
      "https://stepic.org/media/attachments/course67/3.6.3/972817.txt\n",
      "https://stepic.org/media/attachments/course67/3.6.3/183249.txt\n",
      "https://stepic.org/media/attachments/course67/3.6.3/231788.txt\n",
      "https://stepic.org/media/attachments/course67/3.6.3/238807.txt\n",
      "https://stepic.org/media/attachments/course67/3.6.3/775176.txt\n",
      "https://stepic.org/media/attachments/course67/3.6.3/332055.txt\n",
      "https://stepic.org/media/attachments/course67/3.6.3/971266.txt\n",
      "https://stepic.org/media/attachments/course67/3.6.3/641342.txt\n",
      "https://stepic.org/media/attachments/course67/3.6.3/377648.txt\n",
      "https://stepic.org/media/attachments/course67/3.6.3/665641.txt\n",
      "https://stepic.org/media/attachments/course67/3.6.3/120842.txt\n",
      "https://stepic.org/media/attachments/course67/3.6.3/435728.txt\n",
      "https://stepic.org/media/attachments/course67/3.6.3/860507.txt\n",
      "https://stepic.org/media/attachments/course67/3.6.3/845049.txt\n",
      "https://stepic.org/media/attachments/course67/3.6.3/103662.txt\n",
      "https://stepic.org/media/attachments/course67/3.6.3/989375.txt\n",
      "https://stepic.org/media/attachments/course67/3.6.3/949525.txt\n",
      "https://stepic.org/media/attachments/course67/3.6.3/622807.txt\n",
      "https://stepic.org/media/attachments/course67/3.6.3/441279.txt\n",
      "https://stepic.org/media/attachments/course67/3.6.3/252484.txt\n",
      "https://stepic.org/media/attachments/course67/3.6.3/595082.txt\n",
      "https://stepic.org/media/attachments/course67/3.6.3/942502.txt\n",
      "https://stepic.org/media/attachments/course67/3.6.3/544418.txt\n",
      "https://stepic.org/media/attachments/course67/3.6.3/242071.txt\n",
      "https://stepic.org/media/attachments/course67/3.6.3/696203.txt\n",
      "https://stepic.org/media/attachments/course67/3.6.3/470997.txt\n",
      "https://stepic.org/media/attachments/course67/3.6.3/858079.txt\n",
      "https://stepic.org/media/attachments/course67/3.6.3/299971.txt\n",
      "https://stepic.org/media/attachments/course67/3.6.3/474312.txt\n",
      "https://stepic.org/media/attachments/course67/3.6.3/202815.txt\n",
      "https://stepic.org/media/attachments/course67/3.6.3/192361.txt\n",
      "https://stepic.org/media/attachments/course67/3.6.3/036087.txt\n",
      "https://stepic.org/media/attachments/course67/3.6.3/208836.txt\n",
      "https://stepic.org/media/attachments/course67/3.6.3/057270.txt\n",
      "https://stepic.org/media/attachments/course67/3.6.3/414940.txt\n",
      "https://stepic.org/media/attachments/course67/3.6.3/685551.txt\n",
      "https://stepic.org/media/attachments/course67/3.6.3/877276.txt\n",
      "https://stepic.org/media/attachments/course67/3.6.3/183839.txt\n",
      "https://stepic.org/media/attachments/course67/3.6.3/681194.txt\n",
      "https://stepic.org/media/attachments/course67/3.6.3/268115.txt\n",
      "https://stepic.org/media/attachments/course67/3.6.3/850395.txt\n",
      "https://stepic.org/media/attachments/course67/3.6.3/841311.txt\n",
      "https://stepic.org/media/attachments/course67/3.6.3/318124.txt\n",
      "https://stepic.org/media/attachments/course67/3.6.3/502298.txt\n"
     ]
    },
    {
     "name": "stdout",
     "output_type": "stream",
     "text": [
      "https://stepic.org/media/attachments/course67/3.6.3/870820.txt\n",
      "https://stepic.org/media/attachments/course67/3.6.3/886554.txt\n",
      "https://stepic.org/media/attachments/course67/3.6.3/874723.txt\n",
      "https://stepic.org/media/attachments/course67/3.6.3/785247.txt\n",
      "https://stepic.org/media/attachments/course67/3.6.3/743951.txt\n",
      "https://stepic.org/media/attachments/course67/3.6.3/893121.txt\n",
      "https://stepic.org/media/attachments/course67/3.6.3/493592.txt\n",
      "https://stepic.org/media/attachments/course67/3.6.3/043302.txt\n",
      "https://stepic.org/media/attachments/course67/3.6.3/512901.txt\n",
      "https://stepic.org/media/attachments/course67/3.6.3/455422.txt\n",
      "https://stepic.org/media/attachments/course67/3.6.3/405792.txt\n",
      "https://stepic.org/media/attachments/course67/3.6.3/223561.txt\n",
      "https://stepic.org/media/attachments/course67/3.6.3/711048.txt\n",
      "https://stepic.org/media/attachments/course67/3.6.3/986818.txt\n",
      "https://stepic.org/media/attachments/course67/3.6.3/919305.txt\n",
      "https://stepic.org/media/attachments/course67/3.6.3/673023.txt\n",
      "https://stepic.org/media/attachments/course67/3.6.3/195915.txt\n",
      "https://stepic.org/media/attachments/course67/3.6.3/113918.txt\n",
      "https://stepic.org/media/attachments/course67/3.6.3/829948.txt\n",
      "https://stepic.org/media/attachments/course67/3.6.3/407495.txt\n",
      "https://stepic.org/media/attachments/course67/3.6.3/799448.txt\n",
      "https://stepic.org/media/attachments/course67/3.6.3/455591.txt\n",
      "https://stepic.org/media/attachments/course67/3.6.3/046533.txt\n",
      "https://stepic.org/media/attachments/course67/3.6.3/895838.txt\n",
      "https://stepic.org/media/attachments/course67/3.6.3/203749.txt\n",
      "https://stepic.org/media/attachments/course67/3.6.3/897513.txt\n",
      "https://stepic.org/media/attachments/course67/3.6.3/023903.txt\n",
      "https://stepic.org/media/attachments/course67/3.6.3/639854.txt\n",
      "https://stepic.org/media/attachments/course67/3.6.3/767954.txt\n",
      "https://stepic.org/media/attachments/course67/3.6.3/483260.txt\n",
      "https://stepic.org/media/attachments/course67/3.6.3/305657.txt\n",
      "https://stepic.org/media/attachments/course67/3.6.3/113973.txt\n",
      "https://stepic.org/media/attachments/course67/3.6.3/569665.txt\n",
      "https://stepic.org/media/attachments/course67/3.6.3/811640.txt\n",
      "https://stepic.org/media/attachments/course67/3.6.3/627996.txt\n",
      "https://stepic.org/media/attachments/course67/3.6.3/555691.txt\n",
      "https://stepic.org/media/attachments/course67/3.6.3/126531.txt\n",
      "https://stepic.org/media/attachments/course67/3.6.3/434239.txt\n",
      "https://stepic.org/media/attachments/course67/3.6.3/812997.txt\n",
      "https://stepic.org/media/attachments/course67/3.6.3/012540.txt\n",
      "https://stepic.org/media/attachments/course67/3.6.3/457171.txt\n",
      "https://stepic.org/media/attachments/course67/3.6.3/809767.txt\n",
      "https://stepic.org/media/attachments/course67/3.6.3/113083.txt\n",
      "https://stepic.org/media/attachments/course67/3.6.3/168190.txt\n",
      "https://stepic.org/media/attachments/course67/3.6.3/105218.txt\n",
      "https://stepic.org/media/attachments/course67/3.6.3/426930.txt\n",
      "https://stepic.org/media/attachments/course67/3.6.3/839383.txt\n",
      "https://stepic.org/media/attachments/course67/3.6.3/318610.txt\n",
      "https://stepic.org/media/attachments/course67/3.6.3/727580.txt\n",
      "https://stepic.org/media/attachments/course67/3.6.3/966169.txt\n",
      "https://stepic.org/media/attachments/course67/3.6.3/633699.txt\n",
      "https://stepic.org/media/attachments/course67/3.6.3/933699.txt\n",
      "https://stepic.org/media/attachments/course67/3.6.3/254907.txt\n",
      "https://stepic.org/media/attachments/course67/3.6.3/277257.txt\n",
      "https://stepic.org/media/attachments/course67/3.6.3/105289.txt\n",
      "https://stepic.org/media/attachments/course67/3.6.3/618947.txt\n",
      "https://stepic.org/media/attachments/course67/3.6.3/788422.txt\n",
      "https://stepic.org/media/attachments/course67/3.6.3/598850.txt\n",
      "https://stepic.org/media/attachments/course67/3.6.3/218724.txt\n",
      "https://stepic.org/media/attachments/course67/3.6.3/855788.txt\n",
      "https://stepic.org/media/attachments/course67/3.6.3/414896.txt\n",
      "https://stepic.org/media/attachments/course67/3.6.3/086361.txt\n",
      "https://stepic.org/media/attachments/course67/3.6.3/259720.txt\n",
      "https://stepic.org/media/attachments/course67/3.6.3/864746.txt\n",
      "https://stepic.org/media/attachments/course67/3.6.3/213015.txt\n",
      "https://stepic.org/media/attachments/course67/3.6.3/706951.txt\n",
      "https://stepic.org/media/attachments/course67/3.6.3/790699.txt\n",
      "https://stepic.org/media/attachments/course67/3.6.3/556965.txt\n",
      "https://stepic.org/media/attachments/course67/3.6.3/843911.txt\n",
      "https://stepic.org/media/attachments/course67/3.6.3/824452.txt\n",
      "https://stepic.org/media/attachments/course67/3.6.3/558623.txt\n",
      "https://stepic.org/media/attachments/course67/3.6.3/299517.txt\n",
      "https://stepic.org/media/attachments/course67/3.6.3/204151.txt\n",
      "https://stepic.org/media/attachments/course67/3.6.3/864178.txt\n",
      "https://stepic.org/media/attachments/course67/3.6.3/001410.txt\n",
      "https://stepic.org/media/attachments/course67/3.6.3/268784.txt\n",
      "https://stepic.org/media/attachments/course67/3.6.3/413917.txt\n",
      "https://stepic.org/media/attachments/course67/3.6.3/258819.txt\n",
      "https://stepic.org/media/attachments/course67/3.6.3/694433.txt\n",
      "https://stepic.org/media/attachments/course67/3.6.3/376424.txt\n",
      "https://stepic.org/media/attachments/course67/3.6.3/198564.txt\n",
      "https://stepic.org/media/attachments/course67/3.6.3/228068.txt\n",
      "https://stepic.org/media/attachments/course67/3.6.3/417050.txt\n",
      "https://stepic.org/media/attachments/course67/3.6.3/453058.txt\n",
      "https://stepic.org/media/attachments/course67/3.6.3/182986.txt\n",
      "https://stepic.org/media/attachments/course67/3.6.3/237570.txt\n",
      "https://stepic.org/media/attachments/course67/3.6.3/680981.txt\n",
      "https://stepic.org/media/attachments/course67/3.6.3/865546.txt\n",
      "https://stepic.org/media/attachments/course67/3.6.3/367559.txt\n",
      "https://stepic.org/media/attachments/course67/3.6.3/122687.txt\n",
      "https://stepic.org/media/attachments/course67/3.6.3/783680.txt\n",
      "https://stepic.org/media/attachments/course67/3.6.3/626200.txt\n",
      "https://stepic.org/media/attachments/course67/3.6.3/953943.txt\n",
      "https://stepic.org/media/attachments/course67/3.6.3/009102.txt\n",
      "https://stepic.org/media/attachments/course67/3.6.3/882919.txt\n",
      "https://stepic.org/media/attachments/course67/3.6.3/984198.txt\n",
      "https://stepic.org/media/attachments/course67/3.6.3/867571.txt\n",
      "https://stepic.org/media/attachments/course67/3.6.3/889641.txt\n",
      "https://stepic.org/media/attachments/course67/3.6.3/223919.txt\n",
      "https://stepic.org/media/attachments/course67/3.6.3/748056.txt\n",
      "https://stepic.org/media/attachments/course67/3.6.3/577611.txt\n",
      "https://stepic.org/media/attachments/course67/3.6.3/749540.txt\n",
      "https://stepic.org/media/attachments/course67/3.6.3/536080.txt\n",
      "https://stepic.org/media/attachments/course67/3.6.3/351770.txt\n",
      "https://stepic.org/media/attachments/course67/3.6.3/968708.txt\n",
      "https://stepic.org/media/attachments/course67/3.6.3/311090.txt\n",
      "https://stepic.org/media/attachments/course67/3.6.3/239129.txt\n",
      "https://stepic.org/media/attachments/course67/3.6.3/312237.txt\n",
      "https://stepic.org/media/attachments/course67/3.6.3/053569.txt\n",
      "https://stepic.org/media/attachments/course67/3.6.3/678528.txt\n",
      "https://stepic.org/media/attachments/course67/3.6.3/767429.txt\n",
      "https://stepic.org/media/attachments/course67/3.6.3/095729.txt\n",
      "https://stepic.org/media/attachments/course67/3.6.3/452488.txt\n",
      "https://stepic.org/media/attachments/course67/3.6.3/798915.txt\n",
      "https://stepic.org/media/attachments/course67/3.6.3/426191.txt\n",
      "https://stepic.org/media/attachments/course67/3.6.3/067336.txt\n",
      "https://stepic.org/media/attachments/course67/3.6.3/949017.txt\n",
      "https://stepic.org/media/attachments/course67/3.6.3/987573.txt\n",
      "https://stepic.org/media/attachments/course67/3.6.3/843785.txt\n",
      "We are the champions, my friends,\n",
      "And we'll keep on fighting 'til the end.\n",
      "We are the champions.\n",
      "We are the champions.\n",
      "No time for losers\n",
      "'Cause we are the champions of the world.\n"
     ]
    }
   ],
   "source": [
    "import requests as rq\n",
    "\n",
    "f = rq.get(\"https://stepic.org/media/attachments/course67/3.6.3/699991.txt\")\n",
    "l = [i for i in f.iter_lines()]\n",
    "adress = \"699991.txt\"\n",
    "while True:\n",
    "    f = rq.get(\"https://stepic.org/media/attachments/course67/3.6.3/{}\".format(adress))  \n",
    "    print(f.url)\n",
    "    adress = f.text\n",
    "    if adress.startswith(\"We\"):\n",
    "        print(adress)\n",
    "        break\n",
    "    \n",
    "We are the champions, my friends,\n",
    "And we'll keep on fighting 'til the end.\n",
    "We are the champions.\n",
    "We are the champions.\n",
    "No time for losers\n",
    "'Cause we are the champions of the world.   \n"
   ]
  },
  {
   "cell_type": "code",
   "execution_count": 1047,
   "metadata": {},
   "outputs": [
    {
     "name": "stdout",
     "output_type": "stream",
     "text": [
      "1\n",
      "3\n",
      "15\n",
      "15\n",
      "111\n"
     ]
    }
   ],
   "source": [
    "while True:\n",
    "    a = int(input())\n",
    "    if a < 10:\n",
    "        continue\n",
    "    if a > 100:\n",
    "        break\n",
    "    else:\n",
    "        print(a)\n",
    "        "
   ]
  },
  {
   "cell_type": "code",
   "execution_count": 1069,
   "metadata": {},
   "outputs": [
    {
     "name": "stdout",
     "output_type": "stream",
     "text": [
      "480\n",
      "1\n",
      "2\n",
      "9\n",
      "2\n"
     ]
    }
   ],
   "source": [
    "a = int(input())\n",
    "b = int(input())\n",
    "c = int(input())\n",
    "\n",
    "time = b*60 + c\n",
    "\n",
    "wake = time + a\n",
    "\n",
    "print(wake//60)\n",
    "print(wake - wake//60*60)"
   ]
  },
  {
   "cell_type": "code",
   "execution_count": 1071,
   "metadata": {},
   "outputs": [
    {
     "data": {
      "text/plain": [
       "False"
      ]
     },
     "execution_count": 1071,
     "metadata": {},
     "output_type": "execute_result"
    }
   ],
   "source": [
    "a = int(input()) #мин\n",
    "b = int(input()) #max\n",
    "c = int(input()) #in\n",
    "\n",
    "if c < a:\n",
    "    print(\"Недосып\")\n",
    "elif c > b:\n",
    "    print(\"Пересып\")\n",
    "else:\n",
    "    print(\"Это нормально\")\n",
    "\n"
   ]
  },
  {
   "cell_type": "code",
   "execution_count": 1072,
   "metadata": {},
   "outputs": [
    {
     "ename": "KeyboardInterrupt",
     "evalue": "",
     "output_type": "error",
     "traceback": [
      "\u001b[0;31m---------------------------------------------------------------------------\u001b[0m",
      "\u001b[0;31mKeyboardInterrupt\u001b[0m                         Traceback (most recent call last)",
      "\u001b[0;32m~/.conda/envs/pandas/lib/python3.7/site-packages/ipykernel/kernelbase.py\u001b[0m in \u001b[0;36m_input_request\u001b[0;34m(self, prompt, ident, parent, password)\u001b[0m\n\u001b[1;32m    883\u001b[0m             \u001b[0;32mtry\u001b[0m\u001b[0;34m:\u001b[0m\u001b[0;34m\u001b[0m\u001b[0;34m\u001b[0m\u001b[0m\n\u001b[0;32m--> 884\u001b[0;31m                 \u001b[0mident\u001b[0m\u001b[0;34m,\u001b[0m \u001b[0mreply\u001b[0m \u001b[0;34m=\u001b[0m \u001b[0mself\u001b[0m\u001b[0;34m.\u001b[0m\u001b[0msession\u001b[0m\u001b[0;34m.\u001b[0m\u001b[0mrecv\u001b[0m\u001b[0;34m(\u001b[0m\u001b[0mself\u001b[0m\u001b[0;34m.\u001b[0m\u001b[0mstdin_socket\u001b[0m\u001b[0;34m,\u001b[0m \u001b[0;36m0\u001b[0m\u001b[0;34m)\u001b[0m\u001b[0;34m\u001b[0m\u001b[0;34m\u001b[0m\u001b[0m\n\u001b[0m\u001b[1;32m    885\u001b[0m             \u001b[0;32mexcept\u001b[0m \u001b[0mException\u001b[0m\u001b[0;34m:\u001b[0m\u001b[0;34m\u001b[0m\u001b[0;34m\u001b[0m\u001b[0m\n",
      "\u001b[0;32m~/.conda/envs/pandas/lib/python3.7/site-packages/jupyter_client/session.py\u001b[0m in \u001b[0;36mrecv\u001b[0;34m(self, socket, mode, content, copy)\u001b[0m\n\u001b[1;32m    802\u001b[0m         \u001b[0;32mtry\u001b[0m\u001b[0;34m:\u001b[0m\u001b[0;34m\u001b[0m\u001b[0;34m\u001b[0m\u001b[0m\n\u001b[0;32m--> 803\u001b[0;31m             \u001b[0mmsg_list\u001b[0m \u001b[0;34m=\u001b[0m \u001b[0msocket\u001b[0m\u001b[0;34m.\u001b[0m\u001b[0mrecv_multipart\u001b[0m\u001b[0;34m(\u001b[0m\u001b[0mmode\u001b[0m\u001b[0;34m,\u001b[0m \u001b[0mcopy\u001b[0m\u001b[0;34m=\u001b[0m\u001b[0mcopy\u001b[0m\u001b[0;34m)\u001b[0m\u001b[0;34m\u001b[0m\u001b[0;34m\u001b[0m\u001b[0m\n\u001b[0m\u001b[1;32m    804\u001b[0m         \u001b[0;32mexcept\u001b[0m \u001b[0mzmq\u001b[0m\u001b[0;34m.\u001b[0m\u001b[0mZMQError\u001b[0m \u001b[0;32mas\u001b[0m \u001b[0me\u001b[0m\u001b[0;34m:\u001b[0m\u001b[0;34m\u001b[0m\u001b[0;34m\u001b[0m\u001b[0m\n",
      "\u001b[0;32m~/.conda/envs/pandas/lib/python3.7/site-packages/zmq/sugar/socket.py\u001b[0m in \u001b[0;36mrecv_multipart\u001b[0;34m(self, flags, copy, track)\u001b[0m\n\u001b[1;32m    474\u001b[0m         \"\"\"\n\u001b[0;32m--> 475\u001b[0;31m         \u001b[0mparts\u001b[0m \u001b[0;34m=\u001b[0m \u001b[0;34m[\u001b[0m\u001b[0mself\u001b[0m\u001b[0;34m.\u001b[0m\u001b[0mrecv\u001b[0m\u001b[0;34m(\u001b[0m\u001b[0mflags\u001b[0m\u001b[0;34m,\u001b[0m \u001b[0mcopy\u001b[0m\u001b[0;34m=\u001b[0m\u001b[0mcopy\u001b[0m\u001b[0;34m,\u001b[0m \u001b[0mtrack\u001b[0m\u001b[0;34m=\u001b[0m\u001b[0mtrack\u001b[0m\u001b[0;34m)\u001b[0m\u001b[0;34m]\u001b[0m\u001b[0;34m\u001b[0m\u001b[0;34m\u001b[0m\u001b[0m\n\u001b[0m\u001b[1;32m    476\u001b[0m         \u001b[0;31m# have first part already, only loop while more to receive\u001b[0m\u001b[0;34m\u001b[0m\u001b[0;34m\u001b[0m\u001b[0;34m\u001b[0m\u001b[0m\n",
      "\u001b[0;32mzmq/backend/cython/socket.pyx\u001b[0m in \u001b[0;36mzmq.backend.cython.socket.Socket.recv\u001b[0;34m()\u001b[0m\n",
      "\u001b[0;32mzmq/backend/cython/socket.pyx\u001b[0m in \u001b[0;36mzmq.backend.cython.socket.Socket.recv\u001b[0;34m()\u001b[0m\n",
      "\u001b[0;32mzmq/backend/cython/socket.pyx\u001b[0m in \u001b[0;36mzmq.backend.cython.socket._recv_copy\u001b[0;34m()\u001b[0m\n",
      "\u001b[0;32m~/.conda/envs/pandas/lib/python3.7/site-packages/zmq/backend/cython/checkrc.pxd\u001b[0m in \u001b[0;36mzmq.backend.cython.checkrc._check_rc\u001b[0;34m()\u001b[0m\n",
      "\u001b[0;31mKeyboardInterrupt\u001b[0m: ",
      "\nDuring handling of the above exception, another exception occurred:\n",
      "\u001b[0;31mKeyboardInterrupt\u001b[0m                         Traceback (most recent call last)",
      "\u001b[0;32m<ipython-input-1072-937dde4ef986>\u001b[0m in \u001b[0;36m<module>\u001b[0;34m\u001b[0m\n\u001b[0;32m----> 1\u001b[0;31m \u001b[0ma\u001b[0m \u001b[0;34m=\u001b[0m \u001b[0mint\u001b[0m\u001b[0;34m(\u001b[0m\u001b[0minput\u001b[0m\u001b[0;34m(\u001b[0m\u001b[0;34m)\u001b[0m\u001b[0;34m)\u001b[0m\u001b[0;34m\u001b[0m\u001b[0;34m\u001b[0m\u001b[0m\n\u001b[0m\u001b[1;32m      2\u001b[0m \u001b[0;34m\u001b[0m\u001b[0m\n\u001b[1;32m      3\u001b[0m \u001b[0;34m\u001b[0m\u001b[0m\n\u001b[1;32m      4\u001b[0m \u001b[0;34m\u001b[0m\u001b[0m\n\u001b[1;32m      5\u001b[0m \u001b[0;32mif\u001b[0m \u001b[0ma\u001b[0m\u001b[0;34m%\u001b[0m\u001b[0;36m4\u001b[0m\u001b[0;34m==\u001b[0m\u001b[0;36m0\u001b[0m \u001b[0;32mand\u001b[0m \u001b[0ma\u001b[0m\u001b[0;34m%\u001b[0m\u001b[0;36m100\u001b[0m\u001b[0;34m!=\u001b[0m\u001b[0;36m0\u001b[0m\u001b[0;34m:\u001b[0m\u001b[0;34m\u001b[0m\u001b[0;34m\u001b[0m\u001b[0m\n",
      "\u001b[0;32m~/.conda/envs/pandas/lib/python3.7/site-packages/ipykernel/kernelbase.py\u001b[0m in \u001b[0;36mraw_input\u001b[0;34m(self, prompt)\u001b[0m\n\u001b[1;32m    857\u001b[0m             \u001b[0mself\u001b[0m\u001b[0;34m.\u001b[0m\u001b[0m_parent_ident\u001b[0m\u001b[0;34m,\u001b[0m\u001b[0;34m\u001b[0m\u001b[0;34m\u001b[0m\u001b[0m\n\u001b[1;32m    858\u001b[0m             \u001b[0mself\u001b[0m\u001b[0;34m.\u001b[0m\u001b[0m_parent_header\u001b[0m\u001b[0;34m,\u001b[0m\u001b[0;34m\u001b[0m\u001b[0;34m\u001b[0m\u001b[0m\n\u001b[0;32m--> 859\u001b[0;31m             \u001b[0mpassword\u001b[0m\u001b[0;34m=\u001b[0m\u001b[0;32mFalse\u001b[0m\u001b[0;34m,\u001b[0m\u001b[0;34m\u001b[0m\u001b[0;34m\u001b[0m\u001b[0m\n\u001b[0m\u001b[1;32m    860\u001b[0m         )\n\u001b[1;32m    861\u001b[0m \u001b[0;34m\u001b[0m\u001b[0m\n",
      "\u001b[0;32m~/.conda/envs/pandas/lib/python3.7/site-packages/ipykernel/kernelbase.py\u001b[0m in \u001b[0;36m_input_request\u001b[0;34m(self, prompt, ident, parent, password)\u001b[0m\n\u001b[1;32m    887\u001b[0m             \u001b[0;32mexcept\u001b[0m \u001b[0mKeyboardInterrupt\u001b[0m\u001b[0;34m:\u001b[0m\u001b[0;34m\u001b[0m\u001b[0;34m\u001b[0m\u001b[0m\n\u001b[1;32m    888\u001b[0m                 \u001b[0;31m# re-raise KeyboardInterrupt, to truncate traceback\u001b[0m\u001b[0;34m\u001b[0m\u001b[0;34m\u001b[0m\u001b[0;34m\u001b[0m\u001b[0m\n\u001b[0;32m--> 889\u001b[0;31m                 \u001b[0;32mraise\u001b[0m \u001b[0mKeyboardInterrupt\u001b[0m\u001b[0;34m\u001b[0m\u001b[0;34m\u001b[0m\u001b[0m\n\u001b[0m\u001b[1;32m    890\u001b[0m             \u001b[0;32melse\u001b[0m\u001b[0;34m:\u001b[0m\u001b[0;34m\u001b[0m\u001b[0;34m\u001b[0m\u001b[0m\n\u001b[1;32m    891\u001b[0m                 \u001b[0;32mbreak\u001b[0m\u001b[0;34m\u001b[0m\u001b[0;34m\u001b[0m\u001b[0m\n",
      "\u001b[0;31mKeyboardInterrupt\u001b[0m: "
     ]
    }
   ],
   "source": [
    "a = int(input())\n",
    "\n",
    "\n",
    "\n",
    "if a%4==0 and a%100!=0:\n",
    "    print(\"Високосный\")\n",
    "elif a%400==0:\n",
    "    print(\"Високосный\")\n",
    "else:\n",
    "    print(\"Обычный\")"
   ]
  },
  {
   "cell_type": "code",
   "execution_count": 1077,
   "metadata": {},
   "outputs": [
    {
     "name": "stdout",
     "output_type": "stream",
     "text": [
      "44\n",
      "True\n"
     ]
    }
   ],
   "source": [
    "a = int(input())\n",
    "\n",
    "if (a > -15 and a <= 12) or (a > 14 and a <17) or (a >= 19):\n",
    "    print(\"True\")\n",
    "else:\n",
    "    print(\"False\")\n"
   ]
  },
  {
   "cell_type": "code",
   "execution_count": 1082,
   "metadata": {},
   "outputs": [
    {
     "name": "stdout",
     "output_type": "stream",
     "text": [
      "5\n",
      "3\n",
      "*\n",
      "15.0\n"
     ]
    }
   ],
   "source": [
    "a = float(input()) #мин\n",
    "b = float(input()) #max\n",
    "c = str(input()) #in\n",
    "\n",
    "if c==\"mod\":\n",
    "    if b==0:\n",
    "        print(\"Деление на 0!\")\n",
    "    else:\n",
    "        print(a%b)\n",
    "elif c==\"pow\":\n",
    "    print(a**b)\n",
    "elif c==\"div\":\n",
    "    if b == 0:\n",
    "        print(\"Деление на 0!\")\n",
    "    else:\n",
    "        print(a//b)\n",
    "elif c==\"*\":\n",
    "    print(a*b)\n",
    "elif c==\"+\":\n",
    "    print(a+b)\n",
    "elif c==\"-\":\n",
    "    print(a-b)\n",
    "else:\n",
    "    if b == 0:\n",
    "        print(\"Деление на 0!\")\n",
    "    else:\n",
    "        print(a/b)\n",
    "    \n",
    "    \n",
    "    "
   ]
  },
  {
   "cell_type": "code",
   "execution_count": 1085,
   "metadata": {},
   "outputs": [
    {
     "name": "stdout",
     "output_type": "stream",
     "text": [
      "круг\n",
      "3\n",
      "56.52\n"
     ]
    }
   ],
   "source": [
    "mod = str(input()) #мин\n",
    "\n",
    "if mod == \"треугольник\":\n",
    "    a = float(input())\n",
    "    b = float(input())\n",
    "    c = float(input())\n",
    "    p = (a+b+c)/2\n",
    "    res = (p*(p-a)*(p-b)*(p-c))**0.5\n",
    "    res =float(res)\n",
    "    print(res)\n",
    "elif mod==\"прямоугольник\":\n",
    "    a = float(input())\n",
    "    b = float(input())\n",
    "    print(a*b)\n",
    "else:\n",
    "    a = float(input())\n",
    "    print(3.14*(a**2))\n",
    "    "
   ]
  },
  {
   "cell_type": "code",
   "execution_count": 1096,
   "metadata": {},
   "outputs": [
    {
     "name": "stdout",
     "output_type": "stream",
     "text": [
      "5\n",
      "22\n",
      "3\n",
      "[5, 22, 3]\n",
      "[3, 5, 22]\n",
      "22\n",
      "3\n",
      "5\n"
     ]
    }
   ],
   "source": [
    "a = int(input())\n",
    "b = int(input())\n",
    "c = int(input())\n",
    "l = [a, b, c]\n",
    "l.sort()\n",
    "print(l[2])\n",
    "print(l[0])\n",
    "print(l[1])"
   ]
  },
  {
   "cell_type": "code",
   "execution_count": 1173,
   "metadata": {},
   "outputs": [
    {
     "name": "stdout",
     "output_type": "stream",
     "text": [
      "323\n",
      "323 программиста\n"
     ]
    }
   ],
   "source": [
    "a = str(input())\n",
    "\n",
    "l = list(a)\n",
    "l = [int(i) for i in a]\n",
    "if l[-1]==1 and a.endswith(\"11\") == False:\n",
    "    print(a,\"программист\") \n",
    "elif int(a) in [2, 3, 4]:\n",
    "    print(a,\"программиста\")\n",
    "elif int(a) in [0, 5,6,7,8,9,11,12,13,14,15,16,17,18,19]:\n",
    "    print(a,\"программистов\")\n",
    "elif a.endswith(\"11\") or a.endswith(\"12\") or a.endswith(\"13\") or a.endswith(\"14\"):\n",
    "    print(a,\"программистов\")\n",
    "elif l[-1] in [2,3,4] and len(l)>=2:\n",
    "    print(a,\"программиста\")    \n",
    "else:\n",
    "    print(a,\"программистов\")\n",
    "    \n"
   ]
  },
  {
   "cell_type": "code",
   "execution_count": 1182,
   "metadata": {},
   "outputs": [
    {
     "name": "stdout",
     "output_type": "stream",
     "text": [
      "111111\n",
      "Счастливый\n"
     ]
    }
   ],
   "source": [
    "a = str(input())\n",
    "l = list(a)\n",
    "l = [int(a) for a in l]\n",
    "if sum(l[:3]) == sum(l[3:]):\n",
    "    print(\"Счастливый\")    \n",
    "else:\n",
    "    print(\"Обычный\")"
   ]
  },
  {
   "cell_type": "markdown",
   "metadata": {},
   "source": [
    "a = int(input())\n",
    "l = []\n",
    "l.append(a)\n",
    "if a==0:\n",
    "    print(sum(l))\n",
    "else:\n",
    "    l.append(a)\n",
    "    a = int(input())\n",
    "    "
   ]
  },
  {
   "cell_type": "code",
   "execution_count": 1194,
   "metadata": {},
   "outputs": [
    {
     "name": "stdout",
     "output_type": "stream",
     "text": [
      "1\n",
      "8\n",
      "10\n",
      "0\n",
      "19\n"
     ]
    }
   ],
   "source": [
    "a = int(input())\n",
    "l = []\n",
    "while a!=0:\n",
    "    l.append(a)\n",
    "    a = int(input())\n",
    "if a == 0:\n",
    "    print(sum(l))"
   ]
  },
  {
   "cell_type": "code",
   "execution_count": 1196,
   "metadata": {},
   "outputs": [
    {
     "name": "stdout",
     "output_type": "stream",
     "text": [
      "4\n",
      "23\n",
      "92\n"
     ]
    }
   ],
   "source": [
    "a = int(input())\n",
    "b = int(input())\n",
    "counter = 0\n",
    "while True:\n",
    "    counter += 1\n",
    "    if counter%a==0 and counter%b==0:\n",
    "        print(counter)\n",
    "        break\n",
    "     echo \"I hacked ssh!\" > secret \n",
    "    ssh box@server1.stepik-local\n",
    "    scp -r  box@server1.steric-local:/srv/files_on_server/* /home/box/files_on_client/sc"
   ]
  }
 ],
 "metadata": {
  "kernelspec": {
   "display_name": "Python 3",
   "language": "python",
   "name": "python3"
  },
  "language_info": {
   "codemirror_mode": {
    "name": "ipython",
    "version": 3
   },
   "file_extension": ".py",
   "mimetype": "text/x-python",
   "name": "python",
   "nbconvert_exporter": "python",
   "pygments_lexer": "ipython3",
   "version": "3.7.6"
  }
 },
 "nbformat": 4,
 "nbformat_minor": 2
}
