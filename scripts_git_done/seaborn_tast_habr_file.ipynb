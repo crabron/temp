{
 "cells": [
  {
   "cell_type": "code",
   "execution_count": 7,
   "metadata": {
    "scrolled": true
   },
   "outputs": [],
   "source": [
    "import warnings\n",
    "warnings.simplefilter('ignore')\n",
    "\n",
    "%matplotlib inline\n",
    "import seaborn as sns\n",
    "import matplotlib.pyplot as plt\n",
    "%config InlineBackend.figure_format = 'svg'\n",
    "from pylab import rcParams\n",
    "rcParams['figure.figsize']=8,5\n",
    "import pandas as pd\n"
   ]
  },
  {
   "cell_type": "code",
   "execution_count": 8,
   "metadata": {},
   "outputs": [
    {
     "name": "stdout",
     "output_type": "stream",
     "text": [
      "CRT_Functions_v1.1.R  Deseq2_adundanse.R  kim_plot.R  trees.R\r\n",
      "CRT.R                 elize_delete.py     \u001b[0m\u001b[01;32mmain.sh\u001b[0m*    Untitled.ipynb\r\n",
      "dada2_pipe            freqsigch.py        mantel.R\r\n"
     ]
    }
   ],
   "source": []
  },
  {
   "cell_type": "code",
   "execution_count": 9,
   "metadata": {},
   "outputs": [
    {
     "name": "stdout",
     "output_type": "stream",
     "text": [
      " \r\n",
      "16s_35.fas\r\n",
      "16s_all_big_35.fas\r\n",
      "ace_vector.qza\r\n",
      "AC.L.less.txt\r\n",
      "AC.L.more.txt\r\n",
      "AC.ps.txt\r\n",
      "align.fasta\r\n",
      "all_AC.L_less.txt\r\n",
      "all_AC.L_more.txt\r\n",
      "all_AY.H_less.txt\r\n",
      "all_AY.H_more.txt\r\n",
      "all_AY.L_less.txt\r\n",
      "all_AY.L_more.txt\r\n",
      "\u001b[0m\u001b[01;34malpha\u001b[0m/\r\n",
      "av_tp_r_otu.txt\r\n",
      "AY.df.merge.amp.txt\r\n",
      "AY.H.less.txt\r\n",
      "AY.H.more.txt\r\n",
      "AY.L.less.txt\r\n",
      "AY.L.more.txt\r\n",
      "AY.ps.txt\r\n",
      "C.ps.txt\r\n",
      "CRT.csv\r\n",
      "CRT_Functions_v1.1.R\r\n",
      "dnak_35.fas\r\n",
      "dna-sequences.fasta\r\n",
      "faith_pd_vector.qza\r\n",
      "FALSEControl_vs_High_fire_vs_Low_fire.csv\r\n",
      "feature-table.biom\r\n",
      "feature-table-gr.biom\r\n",
      "feature-table.qza\r\n",
      "filtered_table.biom\r\n",
      "filtered_table.qza\r\n",
      "filtered_table.txt\r\n",
      "filt_otu_matrix.txt\r\n",
      "fire2_brief.tsv\r\n",
      "fire-map-ex.tsv\r\n",
      "fire_map_with_elements_and_nice_pH.csv\r\n",
      "glta_35.fas\r\n",
      "goods_vector.qza\r\n",
      "gr-feature-table.qza\r\n",
      "gr-filtered_table.txt\r\n",
      "gsii_35.fas\r\n",
      "gsii_big_35.fas\r\n",
      "insertion-placements.qza\r\n",
      "insertion-tree.qza\r\n",
      "kim_dis.csv\r\n",
      "map.csv\r\n",
      "map_nodx.csv\r\n",
      "map_n.txt\r\n",
      "name_Brief.txt\r\n",
      "nbsigControl_vs_High_fire_vs_Low_fire.csv\r\n",
      "network_AC.Control_vs_AC.High_fire_vs_AC.Low_fire_AC.Control_0.35.pdf\r\n",
      "network_AC.Control_vs_AC.High_fire_vs_AC.Low_fire_AC.High_fire_0.35.pdf\r\n",
      "network_AC.Control_vs_AC.High_fire_vs_AC.Low_fire_AC.Low_fire_0.35.pdf\r\n",
      "network_AC.High_fire_vs_AC.Low_fire_vs_AY.Control_vs_AY.High_fire_vs_AY.Low_fire_vs_C.Control_vs_C.High_fire_vs_C.Low_fire_AC.High_fire_0.35.pdf\r\n",
      "network_AC.High_fire_vs_AC.Low_fire_vs_AY.Control_vs_AY.High_fire_vs_AY.Low_fire_vs_C.Control_vs_C.High_fire_vs_C.Low_fire_AC.Low_fire_0.35.pdf\r\n",
      "network_AC.High_fire_vs_AC.Low_fire_vs_AY.Control_vs_AY.High_fire_vs_AY.Low_fire_vs_C.Control_vs_C.High_fire_vs_C.Low_fire_AY.Control_0.35.pdf\r\n",
      "network_AC.High_fire_vs_AC.Low_fire_vs_AY.Control_vs_AY.High_fire_vs_AY.Low_fire_vs_C.Control_vs_C.High_fire_vs_C.Low_fire_AY.High_fire_0.35.pdf\r\n",
      "network_AC.High_fire_vs_AC.Low_fire_vs_AY.Control_vs_AY.High_fire_vs_AY.Low_fire_vs_C.Control_vs_C.High_fire_vs_C.Low_fire_AY.Low_fire_0.35.pdf\r\n",
      "network_AC.High_fire_vs_AC.Low_fire_vs_AY.Control_vs_AY.High_fire_vs_AY.Low_fire_vs_C.Control_vs_C.High_fire_vs_C.Low_fire_C.Control_0.35.pdf\r\n",
      "network_AC.High_fire_vs_AC.Low_fire_vs_AY.Control_vs_AY.High_fire_vs_AY.Low_fire_vs_C.Control_vs_C.High_fire_vs_C.Low_fire_C.High_fire_0.35.pdf\r\n",
      "network_AC.High_fire_vs_AC.Low_fire_vs_AY.Control_vs_AY.High_fire_vs_AY.Low_fire_vs_C.Control_vs_C.High_fire_vs_C.Low_fire_C.Low_fire_0.35.pdf\r\n",
      "network_AC.High_fire_vs_AC.Low_fire_vs_AY.Control_vs_AY.High_fire_vs_AY.Low_fire_vs_C.Control_vs_C.Low_fire_AC.High_fire_0.35.pdf\r\n",
      "network_AC.High_fire_vs_AC.Low_fire_vs_AY.Control_vs_AY.High_fire_vs_AY.Low_fire_vs_C.Control_vs_C.Low_fire_AC.Low_fire_0.35.pdf\r\n",
      "network_AC.High_fire_vs_AC.Low_fire_vs_AY.Control_vs_AY.High_fire_vs_AY.Low_fire_vs_C.Control_vs_C.Low_fire_AY.Control_0.35.pdf\r\n",
      "network_AC.High_fire_vs_AC.Low_fire_vs_AY.Control_vs_AY.High_fire_vs_AY.Low_fire_vs_C.Control_vs_C.Low_fire_AY.High_fire_0.35.pdf\r\n",
      "network_AC.High_fire_vs_AC.Low_fire_vs_AY.Control_vs_AY.High_fire_vs_AY.Low_fire_vs_C.Control_vs_C.Low_fire_AY.Low_fire_0.35.pdf\r\n",
      "network_AC.High_fire_vs_AC.Low_fire_vs_AY.Control_vs_AY.High_fire_vs_AY.Low_fire_vs_C.Control_vs_C.Low_fire_C.Control_0.35.pdf\r\n",
      "network_AC.High_fire_vs_AC.Low_fire_vs_AY.Control_vs_AY.High_fire_vs_AY.Low_fire_vs_C.Control_vs_C.Low_fire_C.Low_fire_0.35.pdf\r\n",
      "network_AC.High_fire_vs_AY.Control_vs_AY.Low_fire_vs_C.Control_AC.High_fire_0.35.pdf\r\n",
      "network_AC.High_fire_vs_AY.Control_vs_AY.Low_fire_vs_C.Control_AY.Control_0.35.pdf\r\n",
      "network_AC.High_fire_vs_AY.Control_vs_AY.Low_fire_vs_C.Control_AY.Low_fire_0.35.pdf\r\n",
      "network_AC.High_fire_vs_AY.Control_vs_AY.Low_fire_vs_C.Control_C.Control_0.35.pdf\r\n",
      "network_C.Low_fire_C.Low_fire_0.35.pdf\r\n",
      "nifh_35.fas\r\n",
      "noda_35.fas\r\n",
      "nodc_35.fas\r\n",
      "nodd_35.fas\r\n",
      "nodD_short_35.fas\r\n",
      "nodX_art.fas\r\n",
      "oops.tsv\r\n",
      "otput.tsv\r\n",
      "Otus.txt\r\n",
      "otu_table.biom\r\n",
      "otu_table.txt\r\n",
      "otu_with_taxa.txt\r\n",
      "per_Repeat.txt\r\n",
      "per_Site.txt\r\n",
      "\u001b[01;34mplots\u001b[0m/\r\n",
      "prop.txt\r\n",
      "removed_table.qza\r\n",
      "rep_seq.fasta\r\n",
      "rep_seq.qza\r\n",
      "ResultsFile_ConditionallyRareOTUID_0.001_0.9_NOSIG.txt\r\n",
      "ResultsFile_ConditionallyRareOTUID_0.01_0.9_NOSIG.txt\r\n",
      "ResultsFile_ConditionallyRareOTUID_0.1_0.9_NOSIG.txt\r\n",
      "shannon_vector.qza\r\n",
      "silva_nr_v132_train_set.fa\r\n",
      "silva_species_assignment_v132.fa\r\n",
      "taxa.txt\r\n",
      "taxonomy_to_qiime2.py\r\n",
      "tree.nwk\r\n",
      "TRUEControl_vs_High_fire_vs_Low_fire.csv\r\n"
     ]
    }
   ],
   "source": [
    "ls ../raw_fires/new2_dada/"
   ]
  }
 ],
 "metadata": {
  "kernelspec": {
   "display_name": "Python 3",
   "language": "python",
   "name": "python3"
  },
  "language_info": {
   "codemirror_mode": {
    "name": "ipython",
    "version": 3
   },
   "file_extension": ".py",
   "mimetype": "text/x-python",
   "name": "python",
   "nbconvert_exporter": "python",
   "pygments_lexer": "ipython3",
   "version": "3.7.2"
  }
 },
 "nbformat": 4,
 "nbformat_minor": 2
}
